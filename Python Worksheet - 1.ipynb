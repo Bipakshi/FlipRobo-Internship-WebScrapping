{
 "cells": [
  {
   "cell_type": "markdown",
   "id": "e0dff39e",
   "metadata": {},
   "source": [
    "###  Q1. Which of the following operators is used to calculate remainder in a division?\n",
    "\n",
    "#### Ans: % (example shown below)"
   ]
  },
  {
   "cell_type": "code",
   "execution_count": 27,
   "id": "2cf0bf3f",
   "metadata": {},
   "outputs": [],
   "source": [
    "x = 26\n",
    "y = 7\n",
    "\n",
    "Remainder = x%y"
   ]
  },
  {
   "cell_type": "code",
   "execution_count": 28,
   "id": "d4cdc37f",
   "metadata": {},
   "outputs": [
    {
     "data": {
      "text/plain": [
       "5"
      ]
     },
     "execution_count": 28,
     "metadata": {},
     "output_type": "execute_result"
    }
   ],
   "source": [
    "Remainder"
   ]
  },
  {
   "cell_type": "markdown",
   "id": "4a345060",
   "metadata": {},
   "source": [
    "### Q2. In python 2//3 is equal to?\n",
    "#### Ans: 0"
   ]
  },
  {
   "cell_type": "code",
   "execution_count": 30,
   "id": "184a24d6",
   "metadata": {},
   "outputs": [
    {
     "data": {
      "text/plain": [
       "0"
      ]
     },
     "execution_count": 30,
     "metadata": {},
     "output_type": "execute_result"
    }
   ],
   "source": [
    "x = 2//3\n",
    "x"
   ]
  },
  {
   "cell_type": "markdown",
   "id": "e91c54f6",
   "metadata": {},
   "source": [
    "### Q3. In python, 6<<2 is equal to?\n",
    "#### Ans: 24"
   ]
  },
  {
   "cell_type": "code",
   "execution_count": 34,
   "id": "00e47b58",
   "metadata": {},
   "outputs": [
    {
     "data": {
      "text/plain": [
       "24"
      ]
     },
     "execution_count": 34,
     "metadata": {},
     "output_type": "execute_result"
    }
   ],
   "source": [
    "x = 6<<2\n",
    "x"
   ]
  },
  {
   "cell_type": "markdown",
   "id": "1e3ed425",
   "metadata": {},
   "source": [
    "### Q4. In python, 6&2 will give which of the following as output?\n",
    "#### Ans: "
   ]
  },
  {
   "cell_type": "code",
   "execution_count": 35,
   "id": "ccc28eee",
   "metadata": {},
   "outputs": [
    {
     "data": {
      "text/plain": [
       "2"
      ]
     },
     "execution_count": 35,
     "metadata": {},
     "output_type": "execute_result"
    }
   ],
   "source": [
    "a = 6 & 2\n",
    "a"
   ]
  },
  {
   "cell_type": "markdown",
   "id": "c79a75e3",
   "metadata": {},
   "source": [
    "### Q5. In python, 6|2 will give which of the following as output?\n",
    "#### Ans: 6"
   ]
  },
  {
   "cell_type": "code",
   "execution_count": 42,
   "id": "33087f8e",
   "metadata": {},
   "outputs": [
    {
     "data": {
      "text/plain": [
       "6"
      ]
     },
     "execution_count": 42,
     "metadata": {},
     "output_type": "execute_result"
    }
   ],
   "source": [
    "x = 6|2\n",
    "x"
   ]
  },
  {
   "cell_type": "markdown",
   "id": "cc2d87cb",
   "metadata": {},
   "source": [
    "### Q6. What does the finally keyword denotes in python?\n",
    "#### Ans: C) the finally block will be executed no matter if the try block raises an error or not."
   ]
  },
  {
   "cell_type": "code",
   "execution_count": 43,
   "id": "e966f28f",
   "metadata": {},
   "outputs": [
    {
     "name": "stdout",
     "output_type": "stream",
     "text": [
      "Alwayse execute finally code blocks\n"
     ]
    },
    {
     "ename": "FileNotFoundError",
     "evalue": "[Errno 2] No such file or directory: 'testfile'",
     "output_type": "error",
     "traceback": [
      "\u001b[1;31m---------------------------------------------------------------------------\u001b[0m",
      "\u001b[1;31mFileNotFoundError\u001b[0m                         Traceback (most recent call last)",
      "\u001b[1;32m<ipython-input-43-68f62234d822>\u001b[0m in \u001b[0;36m<module>\u001b[1;34m\u001b[0m\n\u001b[0;32m      1\u001b[0m \u001b[1;32mtry\u001b[0m\u001b[1;33m:\u001b[0m\u001b[1;33m\u001b[0m\u001b[1;33m\u001b[0m\u001b[0m\n\u001b[1;32m----> 2\u001b[1;33m     \u001b[0mf\u001b[0m\u001b[1;33m=\u001b[0m\u001b[0mopen\u001b[0m\u001b[1;33m(\u001b[0m\u001b[1;34m'testfile'\u001b[0m\u001b[1;33m,\u001b[0m\u001b[1;34m'r'\u001b[0m\u001b[1;33m)\u001b[0m\u001b[1;31m# in read mode\u001b[0m\u001b[1;33m\u001b[0m\u001b[1;33m\u001b[0m\u001b[0m\n\u001b[0m\u001b[0;32m      3\u001b[0m     \u001b[0mf\u001b[0m\u001b[1;33m.\u001b[0m\u001b[0mwrite\u001b[0m\u001b[1;33m(\u001b[0m\u001b[1;34m'Test write statement'\u001b[0m\u001b[1;33m)\u001b[0m\u001b[1;31m#command to write\u001b[0m\u001b[1;33m\u001b[0m\u001b[1;33m\u001b[0m\u001b[0m\n\u001b[0;32m      4\u001b[0m \u001b[1;32mfinally\u001b[0m\u001b[1;33m:\u001b[0m\u001b[1;33m\u001b[0m\u001b[1;33m\u001b[0m\u001b[0m\n\u001b[0;32m      5\u001b[0m     \u001b[0mprint\u001b[0m\u001b[1;33m(\u001b[0m\u001b[1;34m'Alwayse execute finally code blocks'\u001b[0m\u001b[1;33m)\u001b[0m\u001b[1;33m\u001b[0m\u001b[1;33m\u001b[0m\u001b[0m\n",
      "\u001b[1;31mFileNotFoundError\u001b[0m: [Errno 2] No such file or directory: 'testfile'"
     ]
    }
   ],
   "source": [
    "try:\n",
    "    f=open('testfile','r')# in read mode\n",
    "    f.write('Test write statement')#command to write\n",
    "finally:\n",
    "    print('Alwayse execute finally code blocks')"
   ]
  },
  {
   "cell_type": "markdown",
   "id": "142137a1",
   "metadata": {},
   "source": [
    "### Q7. What does raise keyword is used for in python?\n",
    "#### Ans: A) It is used to raise an exception. "
   ]
  },
  {
   "cell_type": "markdown",
   "id": "c784df98",
   "metadata": {},
   "source": [
    "### Q8. Which of the following is a common use case of yield keyword in python?\n",
    "#### Ans: C) in defining a generator"
   ]
  },
  {
   "cell_type": "markdown",
   "id": "1047ea3d",
   "metadata": {},
   "source": [
    "### Q9. Which of the following are the valid variable names?\n",
    "#### Ans:   (A) _abc   /  (C) abc2, "
   ]
  },
  {
   "cell_type": "markdown",
   "id": "fb6004cc",
   "metadata": {},
   "source": [
    "### Q10. Which of the following are the keywords in python?\n",
    "#### Ans: (A) yield (B) raise"
   ]
  },
  {
   "cell_type": "markdown",
   "id": "0a4e5b60",
   "metadata": {},
   "source": [
    "### Q11. Write a python program to find the factorial of a number?"
   ]
  },
  {
   "cell_type": "code",
   "execution_count": 55,
   "id": "c8ed40dc",
   "metadata": {},
   "outputs": [],
   "source": [
    "import math"
   ]
  },
  {
   "cell_type": "code",
   "execution_count": 58,
   "id": "c31d5f71",
   "metadata": {},
   "outputs": [
    {
     "data": {
      "text/plain": [
       "5040"
      ]
     },
     "execution_count": 58,
     "metadata": {},
     "output_type": "execute_result"
    }
   ],
   "source": [
    "math.factorial(7)"
   ]
  },
  {
   "cell_type": "markdown",
   "id": "72a712f7",
   "metadata": {},
   "source": [
    "### Q12. Write a python program to find whether a number is prime or composite?"
   ]
  },
  {
   "cell_type": "code",
   "execution_count": 63,
   "id": "6b32696d",
   "metadata": {},
   "outputs": [],
   "source": [
    "def is_prime(num):\n",
    "    for n in range(2,num):\n",
    "        if num %n == 0:\n",
    "            print('composite')\n",
    "            break\n",
    "        else:\n",
    "            print('prime')"
   ]
  },
  {
   "cell_type": "code",
   "execution_count": 64,
   "id": "c62d235a",
   "metadata": {},
   "outputs": [
    {
     "name": "stdout",
     "output_type": "stream",
     "text": [
      "composite\n"
     ]
    }
   ],
   "source": [
    "is_prime(22)"
   ]
  },
  {
   "cell_type": "markdown",
   "id": "4d91c5db",
   "metadata": {},
   "source": [
    "### Q13. Write a python program to check whether a given string is palindrome or not?"
   ]
  },
  {
   "cell_type": "code",
   "execution_count": 67,
   "id": "2fe228e7",
   "metadata": {},
   "outputs": [
    {
     "name": "stdout",
     "output_type": "stream",
     "text": [
      "Radar is a Palindrome string\n"
     ]
    }
   ],
   "source": [
    "def is_palindrome(s):\n",
    "    return s == s[::-1]\n",
    "\n",
    "s = 'radar'\n",
    "ans= is_palindrome(s)\n",
    "\n",
    "if ans:\n",
    "    print('Radar is a Palindrome string')\n",
    "else:\n",
    "    print('Not a palindrome string')"
   ]
  },
  {
   "cell_type": "markdown",
   "id": "95f9e81b",
   "metadata": {},
   "source": [
    "### Q14. Write a Python program to get the third side of right-angled triangle from two given sides?"
   ]
  },
  {
   "cell_type": "code",
   "execution_count": 2,
   "id": "0962a5f0",
   "metadata": {},
   "outputs": [
    {
     "name": "stdout",
     "output_type": "stream",
     "text": [
      "Hypotenuse = 5.0\n",
      "Adjacent = 4.0\n",
      "Opposite = 3.0\n",
      "The answer!\n"
     ]
    }
   ],
   "source": [
    "def pythagoras(opposite_side,adjacent_side,hypotenuse):\n",
    "        if opposite_side == str(\"x\"):\n",
    "            return (\"Opposite = \" + str(((hypotenuse**2) - (adjacent_side**2))**0.5))\n",
    "        elif adjacent_side == str(\"x\"):\n",
    "            return (\"Adjacent = \" + str(((hypotenuse**2) - (opposite_side**2))**0.5))\n",
    "        elif hypotenuse == str(\"x\"):\n",
    "            return (\"Hypotenuse = \" + str(((opposite_side**2) + (adjacent_side**2))**0.5))\n",
    "        else:\n",
    "            return \"The answer!\"\n",
    "    \n",
    "print(pythagoras(3,4,'x'))\n",
    "print(pythagoras(3,'x',5))\n",
    "print(pythagoras('x',4,5))\n",
    "print(pythagoras(3,4,5))"
   ]
  },
  {
   "cell_type": "markdown",
   "id": "12cda5e1",
   "metadata": {},
   "source": [
    "### Q15.Write a python program to print the frequency of each of the characters present in a given string?"
   ]
  },
  {
   "cell_type": "code",
   "execution_count": 75,
   "id": "e1d32160",
   "metadata": {},
   "outputs": [
    {
     "name": "stdout",
     "output_type": "stream",
     "text": [
      "FlipRobo:-\n",
      " Frequency of each character: \n",
      " {'F': 1, 'l': 1, 'i': 1, 'p': 1, 'R': 1, 'o': 2, 'b': 1}\n"
     ]
    }
   ],
   "source": [
    "str_freq = 'FlipRobo'\n",
    "res= {}\n",
    "for keys in str_freq:\n",
    "    res[keys]=res.get(keys,0)+1\n",
    "print('FlipRobo:-\\n','Frequency of each character: \\n',res)"
   ]
  },
  {
   "cell_type": "code",
   "execution_count": null,
   "id": "89676289",
   "metadata": {},
   "outputs": [],
   "source": []
  }
 ],
 "metadata": {
  "kernelspec": {
   "display_name": "Python 3",
   "language": "python",
   "name": "python3"
  },
  "language_info": {
   "codemirror_mode": {
    "name": "ipython",
    "version": 3
   },
   "file_extension": ".py",
   "mimetype": "text/x-python",
   "name": "python",
   "nbconvert_exporter": "python",
   "pygments_lexer": "ipython3",
   "version": "3.8.8"
  }
 },
 "nbformat": 4,
 "nbformat_minor": 5
}
