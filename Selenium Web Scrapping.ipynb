{
 "cells": [
  {
   "cell_type": "code",
   "execution_count": 1,
   "id": "0c771417",
   "metadata": {},
   "outputs": [
    {
     "name": "stdout",
     "output_type": "stream",
     "text": [
      "Collecting selenium\n",
      "  Downloading selenium-4.1.0-py3-none-any.whl (958 kB)\n",
      "Collecting trio-websocket~=0.9\n",
      "  Downloading trio_websocket-0.9.2-py3-none-any.whl (16 kB)\n",
      "Requirement already satisfied: urllib3[secure]~=1.26 in c:\\users\\hello\\anaconda3\\lib\\site-packages (from selenium) (1.26.4)\n",
      "Collecting trio~=0.17\n",
      "  Downloading trio-0.19.0-py3-none-any.whl (356 kB)\n",
      "Requirement already satisfied: sortedcontainers in c:\\users\\hello\\anaconda3\\lib\\site-packages (from trio~=0.17->selenium) (2.3.0)\n",
      "Requirement already satisfied: cffi>=1.14 in c:\\users\\hello\\anaconda3\\lib\\site-packages (from trio~=0.17->selenium) (1.14.5)\n",
      "Requirement already satisfied: idna in c:\\users\\hello\\anaconda3\\lib\\site-packages (from trio~=0.17->selenium) (2.10)\n",
      "Collecting outcome\n",
      "  Downloading outcome-1.1.0-py2.py3-none-any.whl (9.7 kB)\n",
      "Requirement already satisfied: attrs>=19.2.0 in c:\\users\\hello\\anaconda3\\lib\\site-packages (from trio~=0.17->selenium) (20.3.0)\n",
      "Requirement already satisfied: sniffio in c:\\users\\hello\\anaconda3\\lib\\site-packages (from trio~=0.17->selenium) (1.2.0)\n",
      "Requirement already satisfied: async-generator>=1.9 in c:\\users\\hello\\anaconda3\\lib\\site-packages (from trio~=0.17->selenium) (1.10)\n",
      "Requirement already satisfied: pycparser in c:\\users\\hello\\anaconda3\\lib\\site-packages (from cffi>=1.14->trio~=0.17->selenium) (2.20)\n",
      "Collecting wsproto>=0.14\n",
      "  Downloading wsproto-1.0.0-py3-none-any.whl (24 kB)\n",
      "Requirement already satisfied: certifi in c:\\users\\hello\\anaconda3\\lib\\site-packages (from urllib3[secure]~=1.26->selenium) (2020.12.5)\n",
      "Requirement already satisfied: pyOpenSSL>=0.14 in c:\\users\\hello\\anaconda3\\lib\\site-packages (from urllib3[secure]~=1.26->selenium) (20.0.1)\n",
      "Requirement already satisfied: cryptography>=1.3.4 in c:\\users\\hello\\anaconda3\\lib\\site-packages (from urllib3[secure]~=1.26->selenium) (3.4.7)\n",
      "Requirement already satisfied: six>=1.5.2 in c:\\users\\hello\\anaconda3\\lib\\site-packages (from pyOpenSSL>=0.14->urllib3[secure]~=1.26->selenium) (1.15.0)\n",
      "Collecting h11<1,>=0.9.0\n",
      "  Downloading h11-0.12.0-py3-none-any.whl (54 kB)\n",
      "Installing collected packages: outcome, h11, wsproto, trio, trio-websocket, selenium\n",
      "Successfully installed h11-0.12.0 outcome-1.1.0 selenium-4.1.0 trio-0.19.0 trio-websocket-0.9.2 wsproto-1.0.0\n"
     ]
    }
   ],
   "source": [
    "!pip install selenium"
   ]
  },
  {
   "cell_type": "code",
   "execution_count": 18,
   "id": "8e695a09",
   "metadata": {},
   "outputs": [],
   "source": [
    "import selenium\n",
    "import pandas as pd\n",
    "from selenium import webdriver\n",
    "import warnings\n",
    "warnings.filterwarnings('ignore')"
   ]
  },
  {
   "cell_type": "markdown",
   "id": "349eed9f",
   "metadata": {},
   "source": [
    "# Question 1\n",
    "Write a python program to scrape data for “Data Analyst” Job position in “Bangalore” location. You \n",
    "have to scrape the job-title, job-location, company_name, experience_required. You have to scrape first 10 \n",
    "jobs data. \n",
    "This task will be done in following steps: \n",
    "1. First get the webpage https://www.naukri.com/ 2. Enter “Data Analyst” in “Skill, Designations, Companies” field and enter “Bangalore” in “enter the \n",
    "location” field. \n",
    "3. Then click the search button. \n",
    "4. Then scrape the data for the first 10 jobs results you get. \n",
    "5. Finally create a dataframe of the scraped data."
   ]
  },
  {
   "cell_type": "code",
   "execution_count": 41,
   "id": "1af4c58d",
   "metadata": {},
   "outputs": [],
   "source": [
    "driver=webdriver.Chrome(r\"C:\\Users\\Hello\\Downloads\\chromedriver_win32\\chromedriver.exe\") #setting the webdriver"
   ]
  },
  {
   "cell_type": "code",
   "execution_count": 42,
   "id": "45631d50",
   "metadata": {},
   "outputs": [],
   "source": [
    "driver.get('https://www.naukri.com/') #opening the url using the webdriver"
   ]
  },
  {
   "cell_type": "code",
   "execution_count": 43,
   "id": "b57038f8",
   "metadata": {},
   "outputs": [],
   "source": [
    "search_job=driver.find_element_by_id('qsb-keyword-sugg') #Coding instructions to search for DataAnalyst jobs\n",
    "search_job.send_keys(\"Data Analyst\")\n",
    "search_loc=driver.find_element_by_xpath(\"//input[@id='qsb-location-sugg']\") #Coding instructions to search the job in banglore city\n",
    "search_loc.send_keys('Bangalore')"
   ]
  },
  {
   "cell_type": "code",
   "execution_count": 44,
   "id": "1eec4827",
   "metadata": {},
   "outputs": [],
   "source": [
    "search_btn=driver.find_element_by_xpath(\"//div[@class='search-btn']/button\") #coding instructions to click on the searc button\n",
    "search_btn.click()"
   ]
  },
  {
   "cell_type": "code",
   "execution_count": 45,
   "id": "49db6746",
   "metadata": {},
   "outputs": [],
   "source": [
    "job_title =[] #Creating empty list\n",
    "job_loc =[]\n",
    "company_name=[]\n",
    "experience_required=[]"
   ]
  },
  {
   "cell_type": "code",
   "execution_count": 48,
   "id": "c7d86fff",
   "metadata": {},
   "outputs": [],
   "source": [
    "title_tags=driver.find_elements_by_xpath(\"//a[@class='title fw500 ellipsis']\") #extracting job titles\n",
    "#title_tags[0:10]"
   ]
  },
  {
   "cell_type": "code",
   "execution_count": 49,
   "id": "28a899ad",
   "metadata": {},
   "outputs": [
    {
     "data": {
      "text/plain": [
       "['Hiring -Data Analyst, Business Analyst, MIS Analyst -3rd Party Payroll',\n",
       " 'Business Analyst/ Data Analyst- Capital Market & SQL (Mandatory)',\n",
       " 'Data Analyst',\n",
       " 'Data Analyst',\n",
       " 'Data Analyst',\n",
       " 'Senior Data Analyst',\n",
       " 'Senior Data Analyst for HANA Platform',\n",
       " 'Data Analyst',\n",
       " 'Assistant/deputy Manager - Geo-spatial Data Analyst',\n",
       " 'Data Analyst']"
      ]
     },
     "execution_count": 49,
     "metadata": {},
     "output_type": "execute_result"
    }
   ],
   "source": [
    "for i in title_tags:  #Getting only the rquired text in a list using for loop\n",
    "    title=i.text\n",
    "    job_title.append(title)\n",
    "job_title[0:10]"
   ]
  },
  {
   "cell_type": "code",
   "execution_count": 50,
   "id": "8cbd224d",
   "metadata": {},
   "outputs": [],
   "source": [
    "company_tags=driver.find_elements_by_xpath(\"//a[@class='subTitle ellipsis fleft']\") #extracting company names\n",
    "#company_tags[0:10]"
   ]
  },
  {
   "cell_type": "code",
   "execution_count": 51,
   "id": "543d724c",
   "metadata": {},
   "outputs": [
    {
     "data": {
      "text/plain": [
       "['Flipkart',\n",
       " 'Genpact',\n",
       " 'GlaxoSmithKline Pharmaceuticals Limited',\n",
       " 'Schneider Electric',\n",
       " 'GlaxoSmithKline Pharmaceuticals Limited',\n",
       " 'Flipkart',\n",
       " 'Intel',\n",
       " 'NetraDyne Technology India Private Limited',\n",
       " 'Maruti Suzuki India',\n",
       " 'Slice']"
      ]
     },
     "execution_count": 51,
     "metadata": {},
     "output_type": "execute_result"
    }
   ],
   "source": [
    "for i in company_tags:\n",
    "    company=i.text\n",
    "    company_name.append(company)\n",
    "company_name[0:10]"
   ]
  },
  {
   "cell_type": "code",
   "execution_count": 52,
   "id": "b8be696f",
   "metadata": {},
   "outputs": [],
   "source": [
    "experience_tags=driver.find_elements_by_xpath(\"//li[@class='fleft grey-text br2 placeHolderLi experience']/span[1]\")\n",
    "#experience_tags[0:10]  #extracting experience"
   ]
  },
  {
   "cell_type": "code",
   "execution_count": 53,
   "id": "cf8a5385",
   "metadata": {},
   "outputs": [
    {
     "data": {
      "text/plain": [
       "['1-6 Yrs',\n",
       " '7-12 Yrs',\n",
       " '3-8 Yrs',\n",
       " '2-5 Yrs',\n",
       " '3-8 Yrs',\n",
       " '3-7 Yrs',\n",
       " '5-10 Yrs',\n",
       " '2-5 Yrs',\n",
       " '3-5 Yrs',\n",
       " '0-2 Yrs']"
      ]
     },
     "execution_count": 53,
     "metadata": {},
     "output_type": "execute_result"
    }
   ],
   "source": [
    "for i in experience_tags:\n",
    "    experience=i.text\n",
    "    experience_required.append(experience)\n",
    "experience_required[0:10]    "
   ]
  },
  {
   "cell_type": "code",
   "execution_count": 54,
   "id": "578284eb",
   "metadata": {},
   "outputs": [],
   "source": [
    "location_tags=driver.find_elements_by_xpath(\"//li[@class='fleft grey-text br2 placeHolderLi location']/span[1]\")\n",
    "#location_tags[0:10] #extracting locations"
   ]
  },
  {
   "cell_type": "code",
   "execution_count": 55,
   "id": "6551dca7",
   "metadata": {},
   "outputs": [
    {
     "data": {
      "text/plain": [
       "['Bangalore/Bengaluru',\n",
       " 'Pune, Bangalore/Bengaluru',\n",
       " 'Bangalore/Bengaluru',\n",
       " 'Bangalore/Bengaluru',\n",
       " 'Bangalore/Bengaluru',\n",
       " 'Bangalore/Bengaluru',\n",
       " 'Bangalore/Bengaluru',\n",
       " 'Bangalore/Bengaluru',\n",
       " 'Gurgaon/Gurugram, bangalore',\n",
       " 'Bangalore/Bengaluru']"
      ]
     },
     "execution_count": 55,
     "metadata": {},
     "output_type": "execute_result"
    }
   ],
   "source": [
    "for i in location_tags:\n",
    "    location=i.text\n",
    "    job_loc.append(location)\n",
    "job_loc[0:10]"
   ]
  },
  {
   "cell_type": "code",
   "execution_count": 56,
   "id": "d7639484",
   "metadata": {},
   "outputs": [],
   "source": [
    "data=list(zip(job_title,company_name,experience_required,job_loc)) #zipping all the list into a single variable"
   ]
  },
  {
   "cell_type": "code",
   "execution_count": 57,
   "id": "7162d657",
   "metadata": {},
   "outputs": [],
   "source": [
    "driver.close() #closing the website"
   ]
  },
  {
   "cell_type": "code",
   "execution_count": 58,
   "id": "ede0427b",
   "metadata": {},
   "outputs": [],
   "source": [
    "df=pd.DataFrame(data, columns=['Title','Company','Experience','Location']) #Creating dataframe"
   ]
  },
  {
   "cell_type": "code",
   "execution_count": 59,
   "id": "3f937c2c",
   "metadata": {},
   "outputs": [],
   "source": [
    "df.set_index('Title', inplace =True) #setting the title as index and saving"
   ]
  },
  {
   "cell_type": "code",
   "execution_count": 60,
   "id": "800f41ff",
   "metadata": {},
   "outputs": [
    {
     "data": {
      "text/html": [
       "<div>\n",
       "<style scoped>\n",
       "    .dataframe tbody tr th:only-of-type {\n",
       "        vertical-align: middle;\n",
       "    }\n",
       "\n",
       "    .dataframe tbody tr th {\n",
       "        vertical-align: top;\n",
       "    }\n",
       "\n",
       "    .dataframe thead th {\n",
       "        text-align: right;\n",
       "    }\n",
       "</style>\n",
       "<table border=\"1\" class=\"dataframe\">\n",
       "  <thead>\n",
       "    <tr style=\"text-align: right;\">\n",
       "      <th></th>\n",
       "      <th>Company</th>\n",
       "      <th>Experience</th>\n",
       "      <th>Location</th>\n",
       "    </tr>\n",
       "    <tr>\n",
       "      <th>Title</th>\n",
       "      <th></th>\n",
       "      <th></th>\n",
       "      <th></th>\n",
       "    </tr>\n",
       "  </thead>\n",
       "  <tbody>\n",
       "    <tr>\n",
       "      <th>Hiring -Data Analyst, Business Analyst, MIS Analyst -3rd Party Payroll</th>\n",
       "      <td>Flipkart</td>\n",
       "      <td>1-6 Yrs</td>\n",
       "      <td>Bangalore/Bengaluru</td>\n",
       "    </tr>\n",
       "    <tr>\n",
       "      <th>Business Analyst/ Data Analyst- Capital Market &amp; SQL (Mandatory)</th>\n",
       "      <td>Genpact</td>\n",
       "      <td>7-12 Yrs</td>\n",
       "      <td>Pune, Bangalore/Bengaluru</td>\n",
       "    </tr>\n",
       "    <tr>\n",
       "      <th>Data Analyst</th>\n",
       "      <td>GlaxoSmithKline Pharmaceuticals Limited</td>\n",
       "      <td>3-8 Yrs</td>\n",
       "      <td>Bangalore/Bengaluru</td>\n",
       "    </tr>\n",
       "    <tr>\n",
       "      <th>Data Analyst</th>\n",
       "      <td>Schneider Electric</td>\n",
       "      <td>2-5 Yrs</td>\n",
       "      <td>Bangalore/Bengaluru</td>\n",
       "    </tr>\n",
       "    <tr>\n",
       "      <th>Data Analyst</th>\n",
       "      <td>GlaxoSmithKline Pharmaceuticals Limited</td>\n",
       "      <td>3-8 Yrs</td>\n",
       "      <td>Bangalore/Bengaluru</td>\n",
       "    </tr>\n",
       "    <tr>\n",
       "      <th>Senior Data Analyst</th>\n",
       "      <td>Flipkart</td>\n",
       "      <td>3-7 Yrs</td>\n",
       "      <td>Bangalore/Bengaluru</td>\n",
       "    </tr>\n",
       "    <tr>\n",
       "      <th>Senior Data Analyst for HANA Platform</th>\n",
       "      <td>Intel</td>\n",
       "      <td>5-10 Yrs</td>\n",
       "      <td>Bangalore/Bengaluru</td>\n",
       "    </tr>\n",
       "    <tr>\n",
       "      <th>Data Analyst</th>\n",
       "      <td>NetraDyne Technology India Private Limited</td>\n",
       "      <td>2-5 Yrs</td>\n",
       "      <td>Bangalore/Bengaluru</td>\n",
       "    </tr>\n",
       "    <tr>\n",
       "      <th>Assistant/deputy Manager - Geo-spatial Data Analyst</th>\n",
       "      <td>Maruti Suzuki India</td>\n",
       "      <td>3-5 Yrs</td>\n",
       "      <td>Gurgaon/Gurugram, bangalore</td>\n",
       "    </tr>\n",
       "    <tr>\n",
       "      <th>Data Analyst</th>\n",
       "      <td>Slice</td>\n",
       "      <td>0-2 Yrs</td>\n",
       "      <td>Bangalore/Bengaluru</td>\n",
       "    </tr>\n",
       "  </tbody>\n",
       "</table>\n",
       "</div>"
      ],
      "text/plain": [
       "                                                                                       Company  \\\n",
       "Title                                                                                            \n",
       "Hiring -Data Analyst, Business Analyst, MIS Ana...                                    Flipkart   \n",
       "Business Analyst/ Data Analyst- Capital Market ...                                     Genpact   \n",
       "Data Analyst                                           GlaxoSmithKline Pharmaceuticals Limited   \n",
       "Data Analyst                                                                Schneider Electric   \n",
       "Data Analyst                                           GlaxoSmithKline Pharmaceuticals Limited   \n",
       "Senior Data Analyst                                                                   Flipkart   \n",
       "Senior Data Analyst for HANA Platform                                                    Intel   \n",
       "Data Analyst                                        NetraDyne Technology India Private Limited   \n",
       "Assistant/deputy Manager - Geo-spatial Data Ana...                         Maruti Suzuki India   \n",
       "Data Analyst                                                                             Slice   \n",
       "\n",
       "                                                   Experience  \\\n",
       "Title                                                           \n",
       "Hiring -Data Analyst, Business Analyst, MIS Ana...    1-6 Yrs   \n",
       "Business Analyst/ Data Analyst- Capital Market ...   7-12 Yrs   \n",
       "Data Analyst                                          3-8 Yrs   \n",
       "Data Analyst                                          2-5 Yrs   \n",
       "Data Analyst                                          3-8 Yrs   \n",
       "Senior Data Analyst                                   3-7 Yrs   \n",
       "Senior Data Analyst for HANA Platform                5-10 Yrs   \n",
       "Data Analyst                                          2-5 Yrs   \n",
       "Assistant/deputy Manager - Geo-spatial Data Ana...    3-5 Yrs   \n",
       "Data Analyst                                          0-2 Yrs   \n",
       "\n",
       "                                                                       Location  \n",
       "Title                                                                            \n",
       "Hiring -Data Analyst, Business Analyst, MIS Ana...          Bangalore/Bengaluru  \n",
       "Business Analyst/ Data Analyst- Capital Market ...    Pune, Bangalore/Bengaluru  \n",
       "Data Analyst                                                Bangalore/Bengaluru  \n",
       "Data Analyst                                                Bangalore/Bengaluru  \n",
       "Data Analyst                                                Bangalore/Bengaluru  \n",
       "Senior Data Analyst                                         Bangalore/Bengaluru  \n",
       "Senior Data Analyst for HANA Platform                       Bangalore/Bengaluru  \n",
       "Data Analyst                                                Bangalore/Bengaluru  \n",
       "Assistant/deputy Manager - Geo-spatial Data Ana...  Gurgaon/Gurugram, bangalore  \n",
       "Data Analyst                                                Bangalore/Bengaluru  "
      ]
     },
     "execution_count": 60,
     "metadata": {},
     "output_type": "execute_result"
    }
   ],
   "source": [
    "df[0:10]"
   ]
  },
  {
   "cell_type": "markdown",
   "id": "457bed5b",
   "metadata": {},
   "source": [
    "# Question 2\n",
    "Write a python program to scrape data for “Data Scientist” Job position in “Bangalore” location. You \n",
    "have to scrape the job-title, job-location, company_name. You have to scrape first 10 jobs data. \n",
    "This task will be done in following steps: \n",
    "1. First get the webpage https://www.naukri.com/ 2. Enter “Data Scientist” in “Skill, Designations, Companies” field and enter “Bangalore” in “enter the \n",
    "location” field. \n",
    "3. Then click the search button. \n",
    "4. Then scrape the data for the first 10 jobs results you get. \n",
    "5. Finally create a dataframe of the scraped data. "
   ]
  },
  {
   "cell_type": "code",
   "execution_count": 87,
   "id": "e0311e36",
   "metadata": {},
   "outputs": [],
   "source": [
    "driver=webdriver.Chrome(r\"C:\\Users\\Hello\\Downloads\\chromedriver_win32\\chromedriver.exe\") #opening the browser"
   ]
  },
  {
   "cell_type": "code",
   "execution_count": 88,
   "id": "b3ee0098",
   "metadata": {},
   "outputs": [],
   "source": [
    "driver.get('https://www.naukri.com/') # opening the website"
   ]
  },
  {
   "cell_type": "code",
   "execution_count": 90,
   "id": "208c2bff",
   "metadata": {},
   "outputs": [],
   "source": [
    "ds = driver.find_element_by_id(\"qsb-keyword-sugg\")\n",
    "ds.send_keys(\"Data Scientist\") #searching for datascientist"
   ]
  },
  {
   "cell_type": "code",
   "execution_count": 91,
   "id": "a245d1fc",
   "metadata": {},
   "outputs": [],
   "source": [
    "loc=driver.find_element_by_xpath(\"//input[@id='qsb-location-sugg']\")\n",
    "loc.send_keys(\"Banglore\") # searching for loaction"
   ]
  },
  {
   "cell_type": "code",
   "execution_count": 92,
   "id": "a6a58c79",
   "metadata": {},
   "outputs": [],
   "source": [
    "btn=driver.find_element_by_xpath(\"//div[@class='search-btn']/button\")\n",
    "btn.click()"
   ]
  },
  {
   "cell_type": "code",
   "execution_count": 94,
   "id": "d851551a",
   "metadata": {},
   "outputs": [],
   "source": [
    "job_title=[]\n",
    "job_location=[]\n",
    "company_name=[]"
   ]
  },
  {
   "cell_type": "code",
   "execution_count": 228,
   "id": "ae6060a3",
   "metadata": {},
   "outputs": [],
   "source": [
    "titles = driver.find_elements_by_xpath(\"//a[@class='title fw500 ellipsis']\")\n",
    "#titles[0:10]"
   ]
  },
  {
   "cell_type": "code",
   "execution_count": 100,
   "id": "01b9cb0f",
   "metadata": {},
   "outputs": [
    {
     "data": {
      "text/plain": [
       "['Senior Engineer - AIML - Data Scientist',\n",
       " 'Cognitive/AI Senior Data Scientist',\n",
       " 'Lead Programmer - Data Scientist',\n",
       " 'Senior Data Scientist',\n",
       " 'Lead/Senior Data Scientist (NLP)',\n",
       " 'Data Scientist: Advanced Analytics',\n",
       " 'Data Scientist: Artificial Intelligence',\n",
       " 'Senior Data Scientist',\n",
       " 'Senior Data Scientist Analytics',\n",
       " 'Senior Staff Data Scientist']"
      ]
     },
     "execution_count": 100,
     "metadata": {},
     "output_type": "execute_result"
    }
   ],
   "source": [
    "for i in titles:\n",
    "    job=i.text\n",
    "    job_title.append(job)\n",
    "job_title[0:10]"
   ]
  },
  {
   "cell_type": "code",
   "execution_count": 229,
   "id": "2a39ba99",
   "metadata": {},
   "outputs": [],
   "source": [
    "names= driver.find_elements_by_xpath(\"//a[@class='subTitle ellipsis fleft']\")\n",
    "#names[0:10]"
   ]
  },
  {
   "cell_type": "code",
   "execution_count": 104,
   "id": "affb464a",
   "metadata": {},
   "outputs": [
    {
     "data": {
      "text/plain": [
       "['Unisys',\n",
       " 'IBM India Pvt. Limited',\n",
       " 'GlaxoSmithKline Pharmaceuticals Limited',\n",
       " 'Juniper Networks',\n",
       " 'Samya.AI A FRACTAL Entity',\n",
       " 'IBM India Pvt. Limited',\n",
       " 'IBM India Pvt. Limited',\n",
       " 'Ericsson Global Services',\n",
       " 'ExecBoardinAsia',\n",
       " 'FabHotel Aay Kay Model Town']"
      ]
     },
     "execution_count": 104,
     "metadata": {},
     "output_type": "execute_result"
    }
   ],
   "source": [
    "for i in names:\n",
    "    company=i.text\n",
    "    company_name.append(company)\n",
    "company_name[0:10]"
   ]
  },
  {
   "cell_type": "code",
   "execution_count": 230,
   "id": "59cd063e",
   "metadata": {},
   "outputs": [],
   "source": [
    "locations = driver.find_elements_by_xpath(\"//li[@class='fleft grey-text br2 placeHolderLi location']/span[1]\")\n",
    "#locations[0:10]"
   ]
  },
  {
   "cell_type": "code",
   "execution_count": 107,
   "id": "ab7f3ce0",
   "metadata": {},
   "outputs": [
    {
     "data": {
      "text/plain": [
       "['Bangalore/Bengaluru',\n",
       " 'Bengaluru/Bangalore',\n",
       " 'Bangalore/Bengaluru',\n",
       " 'Bangalore/Bengaluru',\n",
       " 'Bangalore/Bengaluru',\n",
       " 'Bangalore/Bengaluru',\n",
       " 'Bangalore/Bengaluru',\n",
       " 'Bangalore/Bengaluru',\n",
       " 'Bangalore/Bengaluru',\n",
       " 'Bangalore/Bengaluru']"
      ]
     },
     "execution_count": 107,
     "metadata": {},
     "output_type": "execute_result"
    }
   ],
   "source": [
    "for i in locations:\n",
    "    location=i.text\n",
    "    job_location.append(location)\n",
    "job_location[0:10]"
   ]
  },
  {
   "cell_type": "code",
   "execution_count": 108,
   "id": "efd555cf",
   "metadata": {},
   "outputs": [],
   "source": [
    "data = list(zip(job_title, company_name, job_location))"
   ]
  },
  {
   "cell_type": "code",
   "execution_count": 109,
   "id": "24b41cc8",
   "metadata": {},
   "outputs": [],
   "source": [
    "df=pd.DataFrame(data, columns=['Job_Tile','Company_Name','Job_Locations'])"
   ]
  },
  {
   "cell_type": "code",
   "execution_count": 110,
   "id": "4c3b6660",
   "metadata": {},
   "outputs": [],
   "source": [
    "df.set_index('Company_Name', inplace=True)"
   ]
  },
  {
   "cell_type": "code",
   "execution_count": 111,
   "id": "abe648dd",
   "metadata": {},
   "outputs": [
    {
     "data": {
      "text/html": [
       "<div>\n",
       "<style scoped>\n",
       "    .dataframe tbody tr th:only-of-type {\n",
       "        vertical-align: middle;\n",
       "    }\n",
       "\n",
       "    .dataframe tbody tr th {\n",
       "        vertical-align: top;\n",
       "    }\n",
       "\n",
       "    .dataframe thead th {\n",
       "        text-align: right;\n",
       "    }\n",
       "</style>\n",
       "<table border=\"1\" class=\"dataframe\">\n",
       "  <thead>\n",
       "    <tr style=\"text-align: right;\">\n",
       "      <th></th>\n",
       "      <th>Job_Tile</th>\n",
       "      <th>Job_Locations</th>\n",
       "    </tr>\n",
       "    <tr>\n",
       "      <th>Company_Name</th>\n",
       "      <th></th>\n",
       "      <th></th>\n",
       "    </tr>\n",
       "  </thead>\n",
       "  <tbody>\n",
       "    <tr>\n",
       "      <th>Unisys</th>\n",
       "      <td>Senior Engineer - AIML - Data Scientist</td>\n",
       "      <td>Bangalore/Bengaluru</td>\n",
       "    </tr>\n",
       "    <tr>\n",
       "      <th>IBM India Pvt. Limited</th>\n",
       "      <td>Cognitive/AI Senior Data Scientist</td>\n",
       "      <td>Bengaluru/Bangalore</td>\n",
       "    </tr>\n",
       "    <tr>\n",
       "      <th>GlaxoSmithKline Pharmaceuticals Limited</th>\n",
       "      <td>Lead Programmer - Data Scientist</td>\n",
       "      <td>Bangalore/Bengaluru</td>\n",
       "    </tr>\n",
       "    <tr>\n",
       "      <th>Juniper Networks</th>\n",
       "      <td>Senior Data Scientist</td>\n",
       "      <td>Bangalore/Bengaluru</td>\n",
       "    </tr>\n",
       "    <tr>\n",
       "      <th>Samya.AI A FRACTAL Entity</th>\n",
       "      <td>Lead/Senior Data Scientist (NLP)</td>\n",
       "      <td>Bangalore/Bengaluru</td>\n",
       "    </tr>\n",
       "    <tr>\n",
       "      <th>IBM India Pvt. Limited</th>\n",
       "      <td>Data Scientist: Advanced Analytics</td>\n",
       "      <td>Bangalore/Bengaluru</td>\n",
       "    </tr>\n",
       "    <tr>\n",
       "      <th>IBM India Pvt. Limited</th>\n",
       "      <td>Data Scientist: Artificial Intelligence</td>\n",
       "      <td>Bangalore/Bengaluru</td>\n",
       "    </tr>\n",
       "    <tr>\n",
       "      <th>Ericsson Global Services</th>\n",
       "      <td>Senior Data Scientist</td>\n",
       "      <td>Bangalore/Bengaluru</td>\n",
       "    </tr>\n",
       "    <tr>\n",
       "      <th>ExecBoardinAsia</th>\n",
       "      <td>Senior Data Scientist Analytics</td>\n",
       "      <td>Bangalore/Bengaluru</td>\n",
       "    </tr>\n",
       "    <tr>\n",
       "      <th>FabHotel Aay Kay Model Town</th>\n",
       "      <td>Senior Staff Data Scientist</td>\n",
       "      <td>Bangalore/Bengaluru</td>\n",
       "    </tr>\n",
       "  </tbody>\n",
       "</table>\n",
       "</div>"
      ],
      "text/plain": [
       "                                                                        Job_Tile  \\\n",
       "Company_Name                                                                       \n",
       "Unisys                                   Senior Engineer - AIML - Data Scientist   \n",
       "IBM India Pvt. Limited                        Cognitive/AI Senior Data Scientist   \n",
       "GlaxoSmithKline Pharmaceuticals Limited         Lead Programmer - Data Scientist   \n",
       "Juniper Networks                                           Senior Data Scientist   \n",
       "Samya.AI A FRACTAL Entity                       Lead/Senior Data Scientist (NLP)   \n",
       "IBM India Pvt. Limited                        Data Scientist: Advanced Analytics   \n",
       "IBM India Pvt. Limited                   Data Scientist: Artificial Intelligence   \n",
       "Ericsson Global Services                                   Senior Data Scientist   \n",
       "ExecBoardinAsia                                  Senior Data Scientist Analytics   \n",
       "FabHotel Aay Kay Model Town                          Senior Staff Data Scientist   \n",
       "\n",
       "                                               Job_Locations  \n",
       "Company_Name                                                  \n",
       "Unisys                                   Bangalore/Bengaluru  \n",
       "IBM India Pvt. Limited                   Bengaluru/Bangalore  \n",
       "GlaxoSmithKline Pharmaceuticals Limited  Bangalore/Bengaluru  \n",
       "Juniper Networks                         Bangalore/Bengaluru  \n",
       "Samya.AI A FRACTAL Entity                Bangalore/Bengaluru  \n",
       "IBM India Pvt. Limited                   Bangalore/Bengaluru  \n",
       "IBM India Pvt. Limited                   Bangalore/Bengaluru  \n",
       "Ericsson Global Services                 Bangalore/Bengaluru  \n",
       "ExecBoardinAsia                          Bangalore/Bengaluru  \n",
       "FabHotel Aay Kay Model Town              Bangalore/Bengaluru  "
      ]
     },
     "execution_count": 111,
     "metadata": {},
     "output_type": "execute_result"
    }
   ],
   "source": [
    "df[0:10]"
   ]
  },
  {
   "cell_type": "markdown",
   "id": "87450c96",
   "metadata": {},
   "source": [
    "# Question 3\n",
    "\n",
    " In this question you have to scrape data using the filters available on the webpage\n",
    " You have to use the location and salary filter. \n",
    "You have to scrape data for “Data Scientist” designation for first 10 job results. \n",
    "You have to scrape the job-title, job-location, company name, experience required. \n",
    "The location filter to be used is “Delhi/NCR” The salary filter to be used is “3-6” lakhs \n",
    "The task will be done as shown in the below steps: \n",
    "1. first get the webpage https://www.naukri.com/\n",
    "2. Enter “Data Scientist” in “Skill, Designations, and Companies” field. \n",
    "3. Then click the search button. \n",
    "4. Then apply the location filter and salary filter by checking the respective boxes \n",
    "5. Then scrape the data for the first 10 jobs results you get. \n",
    "6. Finally create a dataframe of the scraped data. \n",
    "Note: All of the above steps have to be done in code. No st"
   ]
  },
  {
   "cell_type": "code",
   "execution_count": 167,
   "id": "2a500d0d",
   "metadata": {},
   "outputs": [],
   "source": [
    "driver=webdriver.Chrome(r\"C:\\Users\\Hello\\Downloads\\chromedriver_win32\\chromedriver.exe\")"
   ]
  },
  {
   "cell_type": "code",
   "execution_count": 168,
   "id": "97090a21",
   "metadata": {},
   "outputs": [],
   "source": [
    "driver.get(\"https://www.naukri.com\")"
   ]
  },
  {
   "cell_type": "code",
   "execution_count": 169,
   "id": "2368c708",
   "metadata": {},
   "outputs": [],
   "source": [
    "ds = driver.find_element_by_id(\"qsb-keyword-sugg\")\n",
    "ds.send_keys(\"Data Scientist\")"
   ]
  },
  {
   "cell_type": "code",
   "execution_count": 170,
   "id": "36b0a01a",
   "metadata": {},
   "outputs": [],
   "source": [
    "btn=driver.find_element_by_xpath(\"//div[@class='search-btn']/button\")\n",
    "btn.click()"
   ]
  },
  {
   "cell_type": "code",
   "execution_count": 171,
   "id": "f41ddf90",
   "metadata": {},
   "outputs": [],
   "source": [
    "filter = driver.find_element_by_xpath(\"/html/body/div[1]/div[3]/div[2]/section[1]/div[2]/div[3]/div[2]/div[2]/label/p\")\n",
    "filter.click()"
   ]
  },
  {
   "cell_type": "code",
   "execution_count": 172,
   "id": "cdab77c7",
   "metadata": {},
   "outputs": [],
   "source": [
    "filter = driver.find_element_by_xpath(\"/html/body/div[1]/div[3]/div[2]/section[1]/div[2]/div[4]/div[2]/div[2]/label/p\")\n",
    "filter.click()"
   ]
  },
  {
   "cell_type": "code",
   "execution_count": 137,
   "id": "a78fe20d",
   "metadata": {},
   "outputs": [],
   "source": [
    "job_title=[]\n",
    "job_location=[]\n",
    "company_name=[]\n",
    "experience_required=[]"
   ]
  },
  {
   "cell_type": "code",
   "execution_count": 231,
   "id": "a269d38a",
   "metadata": {},
   "outputs": [],
   "source": [
    "job=driver.find_elements_by_xpath(\"//a[@class='title fw500 ellipsis']\")\n",
    "#job[0:10]"
   ]
  },
  {
   "cell_type": "code",
   "execution_count": 142,
   "id": "8ca2ab12",
   "metadata": {},
   "outputs": [
    {
     "data": {
      "text/plain": [
       "['Project Manager | Team Leader | Senior Data Scientist',\n",
       " 'Project Manager | Team Leader | Senior Data Scientist',\n",
       " 'Project Manager | Team Leader | Senior Data Scientist',\n",
       " 'Project Manager | Team Leader | Senior Data Scientist',\n",
       " 'Project Manager | Team Leader | Senior Data Scientist',\n",
       " 'Project Manager | Team Leader | Senior Data Scientist',\n",
       " 'Project Manager | Team Leader | Senior Data Scientist',\n",
       " 'Project Manager | Team Leader | Senior Data Scientist',\n",
       " 'Project Manager | Team Leader | Senior Data Scientist',\n",
       " 'Project Manager | Team Leader | Senior Data Scientist']"
      ]
     },
     "execution_count": 142,
     "metadata": {},
     "output_type": "execute_result"
    }
   ],
   "source": [
    "for i in job:\n",
    "    title=i.text\n",
    "    job_title.append(title)\n",
    "job_title[0:10]"
   ]
  },
  {
   "cell_type": "code",
   "execution_count": 232,
   "id": "6570754c",
   "metadata": {},
   "outputs": [],
   "source": [
    "loc =driver.find_elements_by_xpath(\"//li[@class='fleft grey-text br2 placeHolderLi location']/span[1]\")\n",
    "#loc[0:10]"
   ]
  },
  {
   "cell_type": "code",
   "execution_count": 150,
   "id": "2c785a86",
   "metadata": {},
   "outputs": [
    {
     "data": {
      "text/plain": [
       "['Remote',\n",
       " 'Hyderabad/Secunderabad, Pune, Chennai, Bangalore/Bengaluru, Delhi / NCR, Mumbai (All Areas)',\n",
       " 'Noida',\n",
       " 'Noida, Kolkata, Hyderabad/Secunderabad, Ahmedabad, Chennai, Coimbatore, Bangalore/Bengaluru, Delhi / NCR, Mumbai (All Areas)',\n",
       " 'Gurgaon/Gurugram, Chennai',\n",
       " 'Noida(Sector-59 Noida)',\n",
       " 'Noida, Ghaziabad, Delhi / NCR',\n",
       " 'Gurgaon/Gurugram',\n",
       " 'Gurgaon/Gurugram',\n",
       " 'Gurgaon/Gurugram']"
      ]
     },
     "execution_count": 150,
     "metadata": {},
     "output_type": "execute_result"
    }
   ],
   "source": [
    "for i in loc:\n",
    "    place=i.text\n",
    "    job_location.append(place)\n",
    "job_location[0:10]"
   ]
  },
  {
   "cell_type": "code",
   "execution_count": 233,
   "id": "5e7217b4",
   "metadata": {},
   "outputs": [],
   "source": [
    "name=driver.find_elements_by_xpath(\"//a[@class='subTitle ellipsis fleft']\")\n",
    "#name[0:10]"
   ]
  },
  {
   "cell_type": "code",
   "execution_count": 152,
   "id": "c320dd57",
   "metadata": {},
   "outputs": [
    {
     "data": {
      "text/plain": [
       "['Tidyquant (OPC) Private Limited',\n",
       " 'Tata Consultancy Services Ltd.',\n",
       " 'Newgen Software Technologies',\n",
       " 'NTT Data Business Solutions Pvt Ltd',\n",
       " 'Teleperformance',\n",
       " 'Careerera',\n",
       " 'GABA Consultancy services',\n",
       " 'ApplyBoard',\n",
       " 'Whizhack Technologies pvt ltd',\n",
       " 'One Mobikwik Systems Private Limited']"
      ]
     },
     "execution_count": 152,
     "metadata": {},
     "output_type": "execute_result"
    }
   ],
   "source": [
    "for i in name:\n",
    "    company=i.text\n",
    "    company_name.append(company)\n",
    "company_name[0:10]"
   ]
  },
  {
   "cell_type": "code",
   "execution_count": 234,
   "id": "cd9016a3",
   "metadata": {},
   "outputs": [],
   "source": [
    "exp=driver.find_elements_by_xpath(\"//li[@class='fleft grey-text br2 placeHolderLi experience']/span[1]\")\n",
    "#exp[0:10]"
   ]
  },
  {
   "cell_type": "code",
   "execution_count": 154,
   "id": "7b1b76d6",
   "metadata": {},
   "outputs": [
    {
     "data": {
      "text/plain": [
       "['1-5 Yrs',\n",
       " '4-9 Yrs',\n",
       " '2-5 Yrs',\n",
       " '3-8 Yrs',\n",
       " '4-9 Yrs',\n",
       " '1-3 Yrs',\n",
       " '0-0 Yrs',\n",
       " '3-7 Yrs',\n",
       " '2-5 Yrs',\n",
       " '2-5 Yrs']"
      ]
     },
     "execution_count": 154,
     "metadata": {},
     "output_type": "execute_result"
    }
   ],
   "source": [
    "for i in exp:\n",
    "    rqd=i.text\n",
    "    experience_required.append(rqd)\n",
    "experience_required[0:10]"
   ]
  },
  {
   "cell_type": "code",
   "execution_count": 155,
   "id": "475379d1",
   "metadata": {},
   "outputs": [],
   "source": [
    "data = list(zip(job_title,job_location,company_name,experience_required))"
   ]
  },
  {
   "cell_type": "code",
   "execution_count": 156,
   "id": "507da6f0",
   "metadata": {},
   "outputs": [],
   "source": [
    "df=pd.DataFrame(data, columns=['Job-Title','Location','Company','Experience-Required'])"
   ]
  },
  {
   "cell_type": "code",
   "execution_count": 157,
   "id": "c0119f68",
   "metadata": {},
   "outputs": [
    {
     "data": {
      "text/html": [
       "<div>\n",
       "<style scoped>\n",
       "    .dataframe tbody tr th:only-of-type {\n",
       "        vertical-align: middle;\n",
       "    }\n",
       "\n",
       "    .dataframe tbody tr th {\n",
       "        vertical-align: top;\n",
       "    }\n",
       "\n",
       "    .dataframe thead th {\n",
       "        text-align: right;\n",
       "    }\n",
       "</style>\n",
       "<table border=\"1\" class=\"dataframe\">\n",
       "  <thead>\n",
       "    <tr style=\"text-align: right;\">\n",
       "      <th></th>\n",
       "      <th>Job-Title</th>\n",
       "      <th>Location</th>\n",
       "      <th>Experience-Required</th>\n",
       "    </tr>\n",
       "    <tr>\n",
       "      <th>Company</th>\n",
       "      <th></th>\n",
       "      <th></th>\n",
       "      <th></th>\n",
       "    </tr>\n",
       "  </thead>\n",
       "  <tbody>\n",
       "    <tr>\n",
       "      <th>Tidyquant (OPC) Private Limited</th>\n",
       "      <td>Project Manager | Team Leader | Senior Data Sc...</td>\n",
       "      <td>Remote</td>\n",
       "      <td>1-5 Yrs</td>\n",
       "    </tr>\n",
       "    <tr>\n",
       "      <th>Tata Consultancy Services Ltd.</th>\n",
       "      <td>Project Manager | Team Leader | Senior Data Sc...</td>\n",
       "      <td>Hyderabad/Secunderabad, Pune, Chennai, Bangalo...</td>\n",
       "      <td>4-9 Yrs</td>\n",
       "    </tr>\n",
       "    <tr>\n",
       "      <th>Newgen Software Technologies</th>\n",
       "      <td>Project Manager | Team Leader | Senior Data Sc...</td>\n",
       "      <td>Noida</td>\n",
       "      <td>2-5 Yrs</td>\n",
       "    </tr>\n",
       "    <tr>\n",
       "      <th>NTT Data Business Solutions Pvt Ltd</th>\n",
       "      <td>Project Manager | Team Leader | Senior Data Sc...</td>\n",
       "      <td>Noida, Kolkata, Hyderabad/Secunderabad, Ahmeda...</td>\n",
       "      <td>3-8 Yrs</td>\n",
       "    </tr>\n",
       "    <tr>\n",
       "      <th>Teleperformance</th>\n",
       "      <td>Project Manager | Team Leader | Senior Data Sc...</td>\n",
       "      <td>Gurgaon/Gurugram, Chennai</td>\n",
       "      <td>4-9 Yrs</td>\n",
       "    </tr>\n",
       "    <tr>\n",
       "      <th>Careerera</th>\n",
       "      <td>Project Manager | Team Leader | Senior Data Sc...</td>\n",
       "      <td>Noida(Sector-59 Noida)</td>\n",
       "      <td>1-3 Yrs</td>\n",
       "    </tr>\n",
       "    <tr>\n",
       "      <th>GABA Consultancy services</th>\n",
       "      <td>Project Manager | Team Leader | Senior Data Sc...</td>\n",
       "      <td>Noida, Ghaziabad, Delhi / NCR</td>\n",
       "      <td>0-0 Yrs</td>\n",
       "    </tr>\n",
       "    <tr>\n",
       "      <th>ApplyBoard</th>\n",
       "      <td>Project Manager | Team Leader | Senior Data Sc...</td>\n",
       "      <td>Gurgaon/Gurugram</td>\n",
       "      <td>3-7 Yrs</td>\n",
       "    </tr>\n",
       "    <tr>\n",
       "      <th>Whizhack Technologies pvt ltd</th>\n",
       "      <td>Project Manager | Team Leader | Senior Data Sc...</td>\n",
       "      <td>Gurgaon/Gurugram</td>\n",
       "      <td>2-5 Yrs</td>\n",
       "    </tr>\n",
       "    <tr>\n",
       "      <th>One Mobikwik Systems Private Limited</th>\n",
       "      <td>Project Manager | Team Leader | Senior Data Sc...</td>\n",
       "      <td>Gurgaon/Gurugram</td>\n",
       "      <td>2-5 Yrs</td>\n",
       "    </tr>\n",
       "  </tbody>\n",
       "</table>\n",
       "</div>"
      ],
      "text/plain": [
       "                                                                              Job-Title  \\\n",
       "Company                                                                                   \n",
       "Tidyquant (OPC) Private Limited       Project Manager | Team Leader | Senior Data Sc...   \n",
       "Tata Consultancy Services Ltd.        Project Manager | Team Leader | Senior Data Sc...   \n",
       "Newgen Software Technologies          Project Manager | Team Leader | Senior Data Sc...   \n",
       "NTT Data Business Solutions Pvt Ltd   Project Manager | Team Leader | Senior Data Sc...   \n",
       "Teleperformance                       Project Manager | Team Leader | Senior Data Sc...   \n",
       "Careerera                             Project Manager | Team Leader | Senior Data Sc...   \n",
       "GABA Consultancy services             Project Manager | Team Leader | Senior Data Sc...   \n",
       "ApplyBoard                            Project Manager | Team Leader | Senior Data Sc...   \n",
       "Whizhack Technologies pvt ltd         Project Manager | Team Leader | Senior Data Sc...   \n",
       "One Mobikwik Systems Private Limited  Project Manager | Team Leader | Senior Data Sc...   \n",
       "\n",
       "                                                                               Location  \\\n",
       "Company                                                                                   \n",
       "Tidyquant (OPC) Private Limited                                                  Remote   \n",
       "Tata Consultancy Services Ltd.        Hyderabad/Secunderabad, Pune, Chennai, Bangalo...   \n",
       "Newgen Software Technologies                                                      Noida   \n",
       "NTT Data Business Solutions Pvt Ltd   Noida, Kolkata, Hyderabad/Secunderabad, Ahmeda...   \n",
       "Teleperformance                                               Gurgaon/Gurugram, Chennai   \n",
       "Careerera                                                        Noida(Sector-59 Noida)   \n",
       "GABA Consultancy services                                 Noida, Ghaziabad, Delhi / NCR   \n",
       "ApplyBoard                                                             Gurgaon/Gurugram   \n",
       "Whizhack Technologies pvt ltd                                          Gurgaon/Gurugram   \n",
       "One Mobikwik Systems Private Limited                                   Gurgaon/Gurugram   \n",
       "\n",
       "                                     Experience-Required  \n",
       "Company                                                   \n",
       "Tidyquant (OPC) Private Limited                  1-5 Yrs  \n",
       "Tata Consultancy Services Ltd.                   4-9 Yrs  \n",
       "Newgen Software Technologies                     2-5 Yrs  \n",
       "NTT Data Business Solutions Pvt Ltd              3-8 Yrs  \n",
       "Teleperformance                                  4-9 Yrs  \n",
       "Careerera                                        1-3 Yrs  \n",
       "GABA Consultancy services                        0-0 Yrs  \n",
       "ApplyBoard                                       3-7 Yrs  \n",
       "Whizhack Technologies pvt ltd                    2-5 Yrs  \n",
       "One Mobikwik Systems Private Limited             2-5 Yrs  "
      ]
     },
     "execution_count": 157,
     "metadata": {},
     "output_type": "execute_result"
    }
   ],
   "source": [
    "df.set_index('Company',inplace=True)\n",
    "df[0:10]"
   ]
  },
  {
   "cell_type": "markdown",
   "id": "6235bfed",
   "metadata": {},
   "source": [
    "# Question 4\n",
    "Scrape data of first 100 sunglasses listings on flipkart.com. You have to scrape four attributes: \n",
    "1. Brand \n",
    "2. Product Description \n",
    "3. Price\n",
    "To scrape the data you have to go through following steps: \n",
    "1. Go to Flipkart webpage by url : https://www.flipkart.com/\n",
    "2. Enter “sunglasses” in the search field where “search for products, brands and more” is written and \n",
    "click the search icon \n",
    "3. After that you will reach to the page having a lot of sunglasses. From this page you can scrap the \n",
    "required data as usual. \n",
    "ASSIGNMENT 2\n",
    "4. After scraping data from the first page, go to the “Next” Button at the bottom of the page , then \n",
    "click on it. \n",
    "5. Now scrape data from this page as usual \n",
    "6. Repeat this until you get data for 100 sunglasses."
   ]
  },
  {
   "cell_type": "code",
   "execution_count": 25,
   "id": "5878c8d0",
   "metadata": {},
   "outputs": [],
   "source": [
    "driver=webdriver.Chrome(r\"C:\\Users\\Hello\\Downloads\\chromedriver_win32\\chromedriver.exe\")"
   ]
  },
  {
   "cell_type": "code",
   "execution_count": 26,
   "id": "537926f2",
   "metadata": {},
   "outputs": [],
   "source": [
    "driver.get('https://www.flipkart.com/')"
   ]
  },
  {
   "cell_type": "code",
   "execution_count": 27,
   "id": "2a64f374",
   "metadata": {},
   "outputs": [],
   "source": [
    "search = driver.find_element_by_xpath(\"//div[@class='_3OO5Xc']/input\")\n",
    "search.send_keys('sunglasses')"
   ]
  },
  {
   "cell_type": "code",
   "execution_count": 28,
   "id": "be77547c",
   "metadata": {},
   "outputs": [],
   "source": [
    "btn=driver.find_element_by_xpath(\"//button[@class='L0Z3Pu']\")\n",
    "btn.click()"
   ]
  },
  {
   "cell_type": "code",
   "execution_count": 29,
   "id": "9061116e",
   "metadata": {},
   "outputs": [],
   "source": [
    "brand=[]\n",
    "description=[]\n",
    "price=[]\n",
    "offer=[]"
   ]
  },
  {
   "cell_type": "code",
   "execution_count": 31,
   "id": "0ca4e292",
   "metadata": {},
   "outputs": [],
   "source": [
    "name = driver.find_elements_by_xpath(\"//div[@class='_2WkVRV']\")\n",
    "info = driver.find_elements_by_xpath(\"//a[@class='IRpwTa']\")\n",
    "p = driver.find_elements_by_xpath(\"//div[@class='_30jeq3']\")\n",
    "discount = driver.find_elements_by_xpath(\"//div[@class='_3Ay6Sb']/span\")\n",
    "\n",
    "\n",
    "for i in name:\n",
    "    names=i.text\n",
    "    brand.append(names)\n",
    "#brand\n",
    "for i in info:\n",
    "    infos=i.text\n",
    "    description.append(infos)\n",
    "#description\n",
    "for i in p:\n",
    "    ps = i.text\n",
    "    price.append(ps)\n",
    "#price\n",
    "for i in discount:\n",
    "    d=i.text\n",
    "    offer.append(d)\n",
    "#offer"
   ]
  },
  {
   "cell_type": "code",
   "execution_count": 32,
   "id": "da6006bc",
   "metadata": {},
   "outputs": [],
   "source": [
    "data = list(zip(brand,description,price,offer))"
   ]
  },
  {
   "cell_type": "code",
   "execution_count": 33,
   "id": "a3bb2394",
   "metadata": {},
   "outputs": [],
   "source": [
    "df=pd.DataFrame(data,columns=['Brands','Description','Price','Offer'])"
   ]
  },
  {
   "cell_type": "code",
   "execution_count": 36,
   "id": "048585d0",
   "metadata": {},
   "outputs": [],
   "source": [
    "#df"
   ]
  },
  {
   "cell_type": "code",
   "execution_count": 37,
   "id": "9cfc0851",
   "metadata": {},
   "outputs": [],
   "source": [
    "next = driver.find_element_by_xpath(\"//a[@class='_1LKTO3']/span\")\n",
    "next.click()"
   ]
  },
  {
   "cell_type": "code",
   "execution_count": 38,
   "id": "8de40b70",
   "metadata": {},
   "outputs": [],
   "source": [
    "brand1=[]\n",
    "description1=[]\n",
    "price1=[]\n",
    "offer1=[]"
   ]
  },
  {
   "cell_type": "code",
   "execution_count": 39,
   "id": "5cb99f4d",
   "metadata": {},
   "outputs": [],
   "source": [
    "a=driver.find_elements_by_xpath(\"//div[@class='_2WkVRV']\")\n",
    "b=driver.find_elements_by_xpath(\"//a[@class='IRpwTa']\")\n",
    "c=driver.find_elements_by_xpath(\"//div[@class='_30jeq3']\")\n",
    "d=driver.find_elements_by_xpath(\"//div[@class='_3Ay6Sb']/span\")\n",
    "\n",
    "for i in a:\n",
    "    name=i.text\n",
    "    brand1.append(name)\n",
    "#brand1\n",
    "for i in b:\n",
    "    des=i.text\n",
    "    description1.append(des)\n",
    "#description1\n",
    "for i in c:\n",
    "    cost=i.text\n",
    "    price1.append(cost)\n",
    "#price1\n",
    "for i in d:\n",
    "    discount=i.text\n",
    "    offer1.append(discount)\n",
    "#offer1"
   ]
  },
  {
   "cell_type": "code",
   "execution_count": 40,
   "id": "8f0eb9ca",
   "metadata": {},
   "outputs": [],
   "source": [
    "data1=list(zip(brand1,description1,price1,offer1))"
   ]
  },
  {
   "cell_type": "code",
   "execution_count": 41,
   "id": "a8b867cd",
   "metadata": {},
   "outputs": [],
   "source": [
    "df1=pd.DataFrame(data1,columns=['Brands','Description','Price','Offer'])\n",
    "#df1"
   ]
  },
  {
   "cell_type": "code",
   "execution_count": 48,
   "id": "a6f6420a",
   "metadata": {},
   "outputs": [],
   "source": [
    "driver.find_element_by_xpath(\"//nav[@class='yFHi8N']/a[3]\").click()"
   ]
  },
  {
   "cell_type": "code",
   "execution_count": 49,
   "id": "635d92ef",
   "metadata": {},
   "outputs": [],
   "source": [
    "brand2=[]\n",
    "description2=[]\n",
    "price2=[]\n",
    "offer2=[]"
   ]
  },
  {
   "cell_type": "code",
   "execution_count": 50,
   "id": "3bea68a7",
   "metadata": {},
   "outputs": [],
   "source": [
    "e=driver.find_elements_by_xpath(\"//div[@class='_2WkVRV']\")\n",
    "f=driver.find_elements_by_xpath(\"//a[@class='IRpwTa']\")\n",
    "g=driver.find_elements_by_xpath(\"//div[@class='_30jeq3']\")\n",
    "h=driver.find_elements_by_xpath(\"//div[@class='_3Ay6Sb']/span\")\n",
    "\n",
    "for i in e:\n",
    "    name=i.text\n",
    "    brand2.append(name)\n",
    "#brand1\n",
    "for i in f:\n",
    "    des=i.text\n",
    "    description2.append(des)\n",
    "#description1\n",
    "for i in g:\n",
    "    cost=i.text\n",
    "    price2.append(cost)\n",
    "#price1\n",
    "for i in h:\n",
    "    discount=i.text\n",
    "    offer2.append(discount)\n",
    "#offer1"
   ]
  },
  {
   "cell_type": "code",
   "execution_count": 51,
   "id": "2d9e4675",
   "metadata": {},
   "outputs": [],
   "source": [
    "data2=list(zip(brand2,description2,price2,offer2))"
   ]
  },
  {
   "cell_type": "code",
   "execution_count": 52,
   "id": "37737077",
   "metadata": {},
   "outputs": [],
   "source": [
    "df2=pd.DataFrame(data2,columns=['Brands','Description','Price','Offer'])"
   ]
  },
  {
   "cell_type": "code",
   "execution_count": 53,
   "id": "3283baaf",
   "metadata": {},
   "outputs": [],
   "source": [
    "final=pd.concat([df,df1,df2], axis=0)"
   ]
  },
  {
   "cell_type": "code",
   "execution_count": 54,
   "id": "62b4018f",
   "metadata": {},
   "outputs": [],
   "source": [
    "final.set_index('Brands',inplace=True)"
   ]
  },
  {
   "cell_type": "code",
   "execution_count": 56,
   "id": "eab31fcd",
   "metadata": {},
   "outputs": [
    {
     "data": {
      "text/html": [
       "<div>\n",
       "<style scoped>\n",
       "    .dataframe tbody tr th:only-of-type {\n",
       "        vertical-align: middle;\n",
       "    }\n",
       "\n",
       "    .dataframe tbody tr th {\n",
       "        vertical-align: top;\n",
       "    }\n",
       "\n",
       "    .dataframe thead th {\n",
       "        text-align: right;\n",
       "    }\n",
       "</style>\n",
       "<table border=\"1\" class=\"dataframe\">\n",
       "  <thead>\n",
       "    <tr style=\"text-align: right;\">\n",
       "      <th></th>\n",
       "      <th>Description</th>\n",
       "      <th>Price</th>\n",
       "      <th>Offer</th>\n",
       "    </tr>\n",
       "    <tr>\n",
       "      <th>Brands</th>\n",
       "      <th></th>\n",
       "      <th></th>\n",
       "      <th></th>\n",
       "    </tr>\n",
       "  </thead>\n",
       "  <tbody>\n",
       "    <tr>\n",
       "      <th>ROYAL SON</th>\n",
       "      <td>Polarized, UV Protection Round Sunglasses (49)</td>\n",
       "      <td>₹694</td>\n",
       "      <td>65% off</td>\n",
       "    </tr>\n",
       "    <tr>\n",
       "      <th>CRYSTAL CART</th>\n",
       "      <td>UV Protection, Gradient Round Sunglasses (Free...</td>\n",
       "      <td>₹329</td>\n",
       "      <td>83% off</td>\n",
       "    </tr>\n",
       "    <tr>\n",
       "      <th>SRPM</th>\n",
       "      <td>UV Protection Wayfarer Sunglasses (56)</td>\n",
       "      <td>₹188</td>\n",
       "      <td>85% off</td>\n",
       "    </tr>\n",
       "    <tr>\n",
       "      <th>Elligator</th>\n",
       "      <td>UV Protection Round Sunglasses (54)</td>\n",
       "      <td>₹248</td>\n",
       "      <td>90% off</td>\n",
       "    </tr>\n",
       "    <tr>\n",
       "      <th>PIRASO</th>\n",
       "      <td>UV Protection Aviator Sunglasses (54)</td>\n",
       "      <td>₹200</td>\n",
       "      <td>87% off</td>\n",
       "    </tr>\n",
       "    <tr>\n",
       "      <th>...</th>\n",
       "      <td>...</td>\n",
       "      <td>...</td>\n",
       "      <td>...</td>\n",
       "    </tr>\n",
       "    <tr>\n",
       "      <th>ROYAL SON</th>\n",
       "      <td>Polarized, UV Protection Round Sunglasses (52)</td>\n",
       "      <td>₹794</td>\n",
       "      <td>60% off</td>\n",
       "    </tr>\n",
       "    <tr>\n",
       "      <th>Fastrack</th>\n",
       "      <td>UV Protection Wayfarer Sunglasses (55)</td>\n",
       "      <td>₹605</td>\n",
       "      <td>24% off</td>\n",
       "    </tr>\n",
       "    <tr>\n",
       "      <th>Elligator</th>\n",
       "      <td>Mirrored Round Sunglasses (53)</td>\n",
       "      <td>₹263</td>\n",
       "      <td>89% off</td>\n",
       "    </tr>\n",
       "    <tr>\n",
       "      <th>Rich Club</th>\n",
       "      <td>UV Protection Round Sunglasses (48)</td>\n",
       "      <td>₹284</td>\n",
       "      <td>64% off</td>\n",
       "    </tr>\n",
       "    <tr>\n",
       "      <th>ROZZETTA CRAFT</th>\n",
       "      <td>UV Protection, Gradient Rectangular Sunglasses...</td>\n",
       "      <td>₹399</td>\n",
       "      <td>80% off</td>\n",
       "    </tr>\n",
       "  </tbody>\n",
       "</table>\n",
       "<p>100 rows × 3 columns</p>\n",
       "</div>"
      ],
      "text/plain": [
       "                                                      Description Price  \\\n",
       "Brands                                                                    \n",
       "ROYAL SON          Polarized, UV Protection Round Sunglasses (49)  ₹694   \n",
       "CRYSTAL CART    UV Protection, Gradient Round Sunglasses (Free...  ₹329   \n",
       "SRPM                       UV Protection Wayfarer Sunglasses (56)  ₹188   \n",
       "Elligator                     UV Protection Round Sunglasses (54)  ₹248   \n",
       "PIRASO                      UV Protection Aviator Sunglasses (54)  ₹200   \n",
       "...                                                           ...   ...   \n",
       "ROYAL SON          Polarized, UV Protection Round Sunglasses (52)  ₹794   \n",
       "Fastrack                   UV Protection Wayfarer Sunglasses (55)  ₹605   \n",
       "Elligator                          Mirrored Round Sunglasses (53)  ₹263   \n",
       "Rich Club                     UV Protection Round Sunglasses (48)  ₹284   \n",
       "ROZZETTA CRAFT  UV Protection, Gradient Rectangular Sunglasses...  ₹399   \n",
       "\n",
       "                  Offer  \n",
       "Brands                   \n",
       "ROYAL SON       65% off  \n",
       "CRYSTAL CART    83% off  \n",
       "SRPM            85% off  \n",
       "Elligator       90% off  \n",
       "PIRASO          87% off  \n",
       "...                 ...  \n",
       "ROYAL SON       60% off  \n",
       "Fastrack        24% off  \n",
       "Elligator       89% off  \n",
       "Rich Club       64% off  \n",
       "ROZZETTA CRAFT  80% off  \n",
       "\n",
       "[100 rows x 3 columns]"
      ]
     },
     "execution_count": 56,
     "metadata": {},
     "output_type": "execute_result"
    }
   ],
   "source": [
    "final[0:100]"
   ]
  },
  {
   "cell_type": "markdown",
   "id": "34f8d82d",
   "metadata": {},
   "source": [
    "# Question 5\n",
    "Scrape 100 reviews data from flipkart.com for iphone11 phone. You have to go the link: \n",
    "https://www.flipkart.com/apple-iphone-11-black-64-gb-includes- earpods-power\u0002adapter/p/itm0f37c2240b217?pid=MOBFKCTSVZAXUHGR&lid=LSTMOBFKC \n",
    "TSVZAXUHGREPBFGI&marketplace. \n",
    "As shown in the above page you have to scrape the tick marked attributes. These are: \n",
    "1. Rating \n",
    "2. Review_summary \n",
    "3. Full review \n",
    "4. You have to scrape this data for first 100 reviews."
   ]
  },
  {
   "cell_type": "code",
   "execution_count": 63,
   "id": "1326f689",
   "metadata": {},
   "outputs": [],
   "source": [
    "driver=webdriver.Chrome(r\"C:\\Users\\Hello\\Downloads\\chromedriver_win32\\chromedriver.exe\")"
   ]
  },
  {
   "cell_type": "code",
   "execution_count": 64,
   "id": "f80dee4a",
   "metadata": {},
   "outputs": [],
   "source": [
    "url=\"https://www.flipkart.com/apple-iphone-11-black-64-gb-includes- earpods-power\u0002adapter/p/itm0f37c2240b217?pid=MOBFKCTSVZAXUHGR&lid=LSTMOBFKCTSVZAXUHGREPBFGI&marketplace\""
   ]
  },
  {
   "cell_type": "code",
   "execution_count": 65,
   "id": "84796c1a",
   "metadata": {},
   "outputs": [],
   "source": [
    "driver.get(url)"
   ]
  },
  {
   "cell_type": "code",
   "execution_count": 66,
   "id": "b08e9af3",
   "metadata": {},
   "outputs": [],
   "source": [
    "all_reviews=driver.find_element_by_xpath(\"//div[@class='_3UAT2v _16PBlm']/span\")\n",
    "all_reviews.click()"
   ]
  },
  {
   "cell_type": "code",
   "execution_count": 67,
   "id": "6a412859",
   "metadata": {},
   "outputs": [],
   "source": [
    "rating=[]\n",
    "review_summary=[]\n",
    "full_review=[]\n",
    "full_review_1=[]\n",
    "\n",
    "r=driver.find_elements_by_xpath(\"//div[@class='_3LWZlK _1BLPMq']\")\n",
    "rs=driver.find_elements_by_xpath(\"//p[@class='_2-N8zT']\")\n",
    "fr=driver.find_elements_by_xpath(\"//div[@class='_2-N8zT']\")\n",
    "fr_1=driver.find_elements_by_xpath(\"//div[@class='t-ZTKy']\")\n",
    "\n",
    "for i in r:\n",
    "    rat=i.text\n",
    "    rating.append(rat)\n",
    "    \n",
    "for i in rs:\n",
    "    rev=i.text\n",
    "    review_summary.append(rev)\n",
    "\n",
    "for i in fr:\n",
    "    full=i.text\n",
    "    full_review.append(full)\n",
    "    \n",
    "for i in fr_1:\n",
    "    ful=i.text\n",
    "    full_review_1.append(ful)"
   ]
  },
  {
   "cell_type": "code",
   "execution_count": 68,
   "id": "a5aa2ad6",
   "metadata": {},
   "outputs": [],
   "source": [
    "full_review.extend(full_review_1)\n",
    "#full_review"
   ]
  },
  {
   "cell_type": "code",
   "execution_count": 69,
   "id": "73a220e5",
   "metadata": {},
   "outputs": [],
   "source": [
    "data=list(zip(rating,review_summary,full_review))"
   ]
  },
  {
   "cell_type": "code",
   "execution_count": 70,
   "id": "9ec9b051",
   "metadata": {},
   "outputs": [],
   "source": [
    "df=pd.DataFrame(data,columns=['Ratings','Review','Full_Review'])"
   ]
  },
  {
   "cell_type": "code",
   "execution_count": 71,
   "id": "ab5a5e30",
   "metadata": {},
   "outputs": [],
   "source": [
    "#df"
   ]
  },
  {
   "cell_type": "code",
   "execution_count": 72,
   "id": "ebc4efb2",
   "metadata": {},
   "outputs": [],
   "source": [
    "next = driver.find_element_by_xpath(\"//a[@class='_1LKTO3']/span\")\n",
    "next.click()"
   ]
  },
  {
   "cell_type": "code",
   "execution_count": 73,
   "id": "236ceb2d",
   "metadata": {},
   "outputs": [],
   "source": [
    "rating0=[]\n",
    "review_summary0=[]\n",
    "full_review0=[]"
   ]
  },
  {
   "cell_type": "code",
   "execution_count": 74,
   "id": "efff1f7e",
   "metadata": {},
   "outputs": [],
   "source": [
    "r0=driver.find_elements_by_xpath(\"//div[@class='_3LWZlK _1BLPMq']\")\n",
    "rs0=driver.find_elements_by_xpath(\"//p[@class='_2-N8zT']\")\n",
    "fr0=driver.find_elements_by_xpath(\"//div[@class='t-ZTKy']\")\n",
    "\n",
    "for i in r0:\n",
    "    rat=i.text\n",
    "    rating0.append(rat)\n",
    "    \n",
    "for i in rs0:\n",
    "    rev=i.text\n",
    "    review_summary0.append(rev)\n",
    "\n",
    "for i in fr0:\n",
    "    full=i.text\n",
    "    full_review0.append(full)"
   ]
  },
  {
   "cell_type": "code",
   "execution_count": 75,
   "id": "4e2dfa1c",
   "metadata": {},
   "outputs": [],
   "source": [
    "data1=list(zip(rating0,review_summary0,full_review0))"
   ]
  },
  {
   "cell_type": "code",
   "execution_count": 76,
   "id": "dba25ba2",
   "metadata": {},
   "outputs": [],
   "source": [
    "df1=pd.DataFrame(data1,columns=['Ratings','Review','Full_Review'])"
   ]
  },
  {
   "cell_type": "code",
   "execution_count": 77,
   "id": "b95f7d02",
   "metadata": {},
   "outputs": [],
   "source": [
    "#df1"
   ]
  },
  {
   "cell_type": "code",
   "execution_count": 78,
   "id": "76bda63d",
   "metadata": {},
   "outputs": [],
   "source": [
    "three = driver.find_element_by_xpath(\"//nav[@class='yFHi8N']/a[3]\")\n",
    "three.click()"
   ]
  },
  {
   "cell_type": "code",
   "execution_count": 79,
   "id": "76f4ae0f",
   "metadata": {},
   "outputs": [],
   "source": [
    "rating1=[]\n",
    "review_summary1=[]\n",
    "full_review1=[]\n",
    "\n",
    "r1=driver.find_elements_by_xpath(\"//div[@class='_3LWZlK _1BLPMq']\")\n",
    "rs1=driver.find_elements_by_xpath(\"//p[@class='_2-N8zT']\")\n",
    "fr1=driver.find_elements_by_xpath(\"//div[@class='t-ZTKy']\")\n",
    "\n",
    "for i in r1:\n",
    "    rat=i.text\n",
    "    rating1.append(rat)\n",
    "    \n",
    "for i in rs1:\n",
    "    rev=i.text\n",
    "    review_summary1.append(rev)\n",
    "\n",
    "for i in fr1:\n",
    "    full=i.text\n",
    "    full_review1.append(full)"
   ]
  },
  {
   "cell_type": "code",
   "execution_count": 80,
   "id": "4f5f9f47",
   "metadata": {},
   "outputs": [],
   "source": [
    "data2=list(zip(rating1,review_summary1,full_review1))"
   ]
  },
  {
   "cell_type": "code",
   "execution_count": 81,
   "id": "2703dbe7",
   "metadata": {},
   "outputs": [],
   "source": [
    "df2=pd.DataFrame(data2,columns=['Ratings','Review','Full_Review'])"
   ]
  },
  {
   "cell_type": "code",
   "execution_count": 82,
   "id": "67c7d72e",
   "metadata": {},
   "outputs": [],
   "source": [
    "four = driver.find_element_by_xpath(\"//nav[@class='yFHi8N']/a[4]\")\n",
    "four.click()"
   ]
  },
  {
   "cell_type": "code",
   "execution_count": 83,
   "id": "e6fc4474",
   "metadata": {},
   "outputs": [],
   "source": [
    "rating2=[]\n",
    "review_summary2=[]\n",
    "full_review2=[]\n",
    "\n",
    "r2=driver.find_elements_by_xpath(\"//div[@class='_3LWZlK _1BLPMq']\")\n",
    "rs2=driver.find_elements_by_xpath(\"//p[@class='_2-N8zT']\")\n",
    "fr2=driver.find_elements_by_xpath(\"//div[@class='t-ZTKy']\")\n",
    "\n",
    "for i in r2:\n",
    "    rat=i.text\n",
    "    rating2.append(rat)\n",
    "    \n",
    "for i in rs2:\n",
    "    rev=i.text\n",
    "    review_summary2.append(rev)\n",
    "\n",
    "for i in fr2:\n",
    "    full=i.text\n",
    "    full_review2.append(full)"
   ]
  },
  {
   "cell_type": "code",
   "execution_count": 84,
   "id": "2999caf4",
   "metadata": {},
   "outputs": [],
   "source": [
    "data3=list(zip(rating2,review_summary2,full_review2))"
   ]
  },
  {
   "cell_type": "code",
   "execution_count": 85,
   "id": "6c0fac61",
   "metadata": {},
   "outputs": [],
   "source": [
    "df3=pd.DataFrame(data3,columns=['Ratings','Review','Full_Review'])"
   ]
  },
  {
   "cell_type": "code",
   "execution_count": 86,
   "id": "d05a35ed",
   "metadata": {},
   "outputs": [],
   "source": [
    "five = driver.find_element_by_xpath(\"//nav[@class='yFHi8N']/a[5]\")\n",
    "five.click()"
   ]
  },
  {
   "cell_type": "code",
   "execution_count": 87,
   "id": "70c5b5e4",
   "metadata": {},
   "outputs": [],
   "source": [
    "rating3=[]\n",
    "review_summary3=[]\n",
    "full_review3=[]\n",
    "\n",
    "r3=driver.find_elements_by_xpath(\"//div[@class='_3LWZlK _1BLPMq']\")\n",
    "rs3=driver.find_elements_by_xpath(\"//p[@class='_2-N8zT']\")\n",
    "fr3=driver.find_elements_by_xpath(\"//div[@class='t-ZTKy']\")\n",
    "\n",
    "for i in r3:\n",
    "    rat=i.text\n",
    "    rating3.append(rat)\n",
    "    \n",
    "for i in rs3:\n",
    "    rev=i.text\n",
    "    review_summary3.append(rev)\n",
    "\n",
    "for i in fr3:\n",
    "    full=i.text\n",
    "    full_review3.append(full)"
   ]
  },
  {
   "cell_type": "code",
   "execution_count": 88,
   "id": "7dad1319",
   "metadata": {},
   "outputs": [],
   "source": [
    "data4=list(zip(rating3,review_summary3,full_review3))"
   ]
  },
  {
   "cell_type": "code",
   "execution_count": 89,
   "id": "619efc74",
   "metadata": {},
   "outputs": [],
   "source": [
    "df4=pd.DataFrame(data4,columns=['Ratings','Review','Full_Review'])"
   ]
  },
  {
   "cell_type": "code",
   "execution_count": 90,
   "id": "66478a9a",
   "metadata": {},
   "outputs": [],
   "source": [
    "six = driver.find_element_by_xpath(\"//nav[@class='yFHi8N']/a[6]\")\n",
    "six.click()"
   ]
  },
  {
   "cell_type": "code",
   "execution_count": 91,
   "id": "42911bf5",
   "metadata": {},
   "outputs": [],
   "source": [
    "rating4=[]\n",
    "review_summary4=[]\n",
    "full_review4=[]\n",
    "\n",
    "r4=driver.find_elements_by_xpath(\"//div[@class='_3LWZlK _1BLPMq']\")\n",
    "rs4=driver.find_elements_by_xpath(\"//p[@class='_2-N8zT']\")\n",
    "fr4=driver.find_elements_by_xpath(\"//div[@class='t-ZTKy']\")\n",
    "\n",
    "for i in r4:\n",
    "    rat=i.text\n",
    "    rating4.append(rat)\n",
    "    \n",
    "for i in rs4:\n",
    "    rev=i.text\n",
    "    review_summary4.append(rev)\n",
    "\n",
    "for i in fr4:\n",
    "    full=i.text\n",
    "    full_review4.append(full)"
   ]
  },
  {
   "cell_type": "code",
   "execution_count": 92,
   "id": "080689a1",
   "metadata": {},
   "outputs": [],
   "source": [
    "data5=list(zip(rating4,review_summary4,full_review4))"
   ]
  },
  {
   "cell_type": "code",
   "execution_count": 93,
   "id": "908e5459",
   "metadata": {},
   "outputs": [],
   "source": [
    "df5=pd.DataFrame(data5,columns=['Ratings','Review','Full_Review'])"
   ]
  },
  {
   "cell_type": "code",
   "execution_count": 94,
   "id": "efff21eb",
   "metadata": {},
   "outputs": [],
   "source": [
    "seven = driver.find_element_by_xpath(\"//nav[@class='yFHi8N']/a[7]\")\n",
    "seven.click()"
   ]
  },
  {
   "cell_type": "code",
   "execution_count": 95,
   "id": "e00fa00d",
   "metadata": {},
   "outputs": [],
   "source": [
    "rating5=[]\n",
    "review_summary5=[]\n",
    "full_review5=[]\n",
    "\n",
    "r5=driver.find_elements_by_xpath(\"//div[@class='_3LWZlK _1BLPMq']\")\n",
    "rs5=driver.find_elements_by_xpath(\"//p[@class='_2-N8zT']\")\n",
    "fr5=driver.find_elements_by_xpath(\"//div[@class='t-ZTKy']\")\n",
    "\n",
    "for i in r5:\n",
    "    rat=i.text\n",
    "    rating5.append(rat)\n",
    "    \n",
    "for i in rs5:\n",
    "    rev=i.text\n",
    "    review_summary5.append(rev)\n",
    "\n",
    "for i in fr5:\n",
    "    full=i.text\n",
    "    full_review5.append(full)"
   ]
  },
  {
   "cell_type": "code",
   "execution_count": 96,
   "id": "a762ae0d",
   "metadata": {},
   "outputs": [],
   "source": [
    "data6=list(zip(rating5,review_summary5,full_review5))"
   ]
  },
  {
   "cell_type": "code",
   "execution_count": 97,
   "id": "76351703",
   "metadata": {},
   "outputs": [],
   "source": [
    "df6=pd.DataFrame(data6,columns=['Ratings','Review','Full_Review'])"
   ]
  },
  {
   "cell_type": "code",
   "execution_count": 98,
   "id": "6718fd6c",
   "metadata": {},
   "outputs": [],
   "source": [
    "eight = driver.find_element_by_xpath(\"//nav[@class='yFHi8N']/a[8]\")\n",
    "eight.click()"
   ]
  },
  {
   "cell_type": "code",
   "execution_count": 99,
   "id": "ee714c46",
   "metadata": {},
   "outputs": [],
   "source": [
    "rating6=[]\n",
    "review_summary6=[]\n",
    "full_review6=[]\n",
    "\n",
    "r6=driver.find_elements_by_xpath(\"//div[@class='_3LWZlK _1BLPMq']\")\n",
    "rs6=driver.find_elements_by_xpath(\"//p[@class='_2-N8zT']\")\n",
    "fr6=driver.find_elements_by_xpath(\"//div[@class='t-ZTKy']\")\n",
    "\n",
    "for i in r6:\n",
    "    rat=i.text\n",
    "    rating6.append(rat)\n",
    "    \n",
    "for i in rs6:\n",
    "    rev=i.text\n",
    "    review_summary6.append(rev)\n",
    "\n",
    "for i in fr6:\n",
    "    full=i.text\n",
    "    full_review6.append(full)"
   ]
  },
  {
   "cell_type": "code",
   "execution_count": 100,
   "id": "151b5b7f",
   "metadata": {},
   "outputs": [],
   "source": [
    "data7=list(zip(rating6,review_summary6,full_review6))"
   ]
  },
  {
   "cell_type": "code",
   "execution_count": 101,
   "id": "37506d47",
   "metadata": {},
   "outputs": [],
   "source": [
    "df7=pd.DataFrame(data7,columns=['Ratings','Review','Full_Review'])"
   ]
  },
  {
   "cell_type": "code",
   "execution_count": 102,
   "id": "6ae51093",
   "metadata": {},
   "outputs": [],
   "source": [
    "nine = driver.find_element_by_xpath(\"//nav[@class='yFHi8N']/a[9]\")\n",
    "nine.click()"
   ]
  },
  {
   "cell_type": "code",
   "execution_count": 103,
   "id": "9252e676",
   "metadata": {},
   "outputs": [],
   "source": [
    "rating7=[]\n",
    "review_summary7=[]\n",
    "full_review7=[]\n",
    "\n",
    "r7=driver.find_elements_by_xpath(\"//div[@class='_3LWZlK _1BLPMq']\")\n",
    "rs7=driver.find_elements_by_xpath(\"//p[@class='_2-N8zT']\")\n",
    "fr7=driver.find_elements_by_xpath(\"//div[@class='t-ZTKy']\")\n",
    "\n",
    "for i in r7:\n",
    "    rat=i.text\n",
    "    rating7.append(rat)\n",
    "    \n",
    "for i in rs7:\n",
    "    rev=i.text\n",
    "    review_summary7.append(rev)\n",
    "\n",
    "for i in fr7:\n",
    "    full=i.text\n",
    "    full_review7.append(full)"
   ]
  },
  {
   "cell_type": "code",
   "execution_count": 104,
   "id": "eb3a5dab",
   "metadata": {},
   "outputs": [],
   "source": [
    "data8=list(zip(rating7,review_summary7,full_review7))"
   ]
  },
  {
   "cell_type": "code",
   "execution_count": 105,
   "id": "5c9cf993",
   "metadata": {},
   "outputs": [],
   "source": [
    "df8=pd.DataFrame(data8,columns=['Ratings','Review','Full_Review'])"
   ]
  },
  {
   "cell_type": "code",
   "execution_count": 106,
   "id": "e5ff4aeb",
   "metadata": {},
   "outputs": [],
   "source": [
    "ten = driver.find_element_by_xpath(\"//nav[@class='yFHi8N']/a[10]\")\n",
    "ten.click()"
   ]
  },
  {
   "cell_type": "code",
   "execution_count": 107,
   "id": "3fee2599",
   "metadata": {},
   "outputs": [],
   "source": [
    "rating8=[]\n",
    "review_summary8=[]\n",
    "full_review8=[]\n",
    "\n",
    "r8=driver.find_elements_by_xpath(\"//div[@class='_3LWZlK _1BLPMq']\")\n",
    "rs8=driver.find_elements_by_xpath(\"//p[@class='_2-N8zT']\")\n",
    "fr8=driver.find_elements_by_xpath(\"//div[@class='t-ZTKy']\")\n",
    "\n",
    "for i in r8:\n",
    "    rat=i.text\n",
    "    rating8.append(rat)\n",
    "    \n",
    "for i in rs8:\n",
    "    rev=i.text\n",
    "    review_summary8.append(rev)\n",
    "\n",
    "for i in fr8:\n",
    "    full=i.text\n",
    "    full_review8.append(full)"
   ]
  },
  {
   "cell_type": "code",
   "execution_count": 108,
   "id": "366b5294",
   "metadata": {},
   "outputs": [],
   "source": [
    "data9=list(zip(rating8,review_summary8,full_review8))"
   ]
  },
  {
   "cell_type": "code",
   "execution_count": 109,
   "id": "e9bfc4b7",
   "metadata": {},
   "outputs": [],
   "source": [
    "df9=pd.DataFrame(data9,columns=['Ratings','Review','Full_Review'])"
   ]
  },
  {
   "cell_type": "code",
   "execution_count": 110,
   "id": "47d1513b",
   "metadata": {},
   "outputs": [],
   "source": [
    "final = pd.concat([df,df1,df2,df3,df4,df5,df6,df7,df8,df9],axis=0)"
   ]
  },
  {
   "cell_type": "code",
   "execution_count": 115,
   "id": "53d16142",
   "metadata": {},
   "outputs": [
    {
     "data": {
      "text/html": [
       "<div>\n",
       "<style scoped>\n",
       "    .dataframe tbody tr th:only-of-type {\n",
       "        vertical-align: middle;\n",
       "    }\n",
       "\n",
       "    .dataframe tbody tr th {\n",
       "        vertical-align: top;\n",
       "    }\n",
       "\n",
       "    .dataframe thead th {\n",
       "        text-align: right;\n",
       "    }\n",
       "</style>\n",
       "<table border=\"1\" class=\"dataframe\">\n",
       "  <thead>\n",
       "    <tr style=\"text-align: right;\">\n",
       "      <th></th>\n",
       "      <th>Review</th>\n",
       "      <th>Full_Review</th>\n",
       "    </tr>\n",
       "    <tr>\n",
       "      <th>Ratings</th>\n",
       "      <th></th>\n",
       "      <th></th>\n",
       "    </tr>\n",
       "  </thead>\n",
       "  <tbody>\n",
       "    <tr>\n",
       "      <th>5</th>\n",
       "      <td>Wonderful</td>\n",
       "      <td>Ok, so after almost 3 years I am again back in...</td>\n",
       "    </tr>\n",
       "    <tr>\n",
       "      <th>5</th>\n",
       "      <td>Must buy!</td>\n",
       "      <td>I will just say its an awesome phone. Starting...</td>\n",
       "    </tr>\n",
       "    <tr>\n",
       "      <th>5</th>\n",
       "      <td>Terrific</td>\n",
       "      <td>Have used both iPhone X and iPhone XR and I ca...</td>\n",
       "    </tr>\n",
       "    <tr>\n",
       "      <th>4</th>\n",
       "      <td>Worth every penny</td>\n",
       "      <td>Just go for it without a second thought, if yo...</td>\n",
       "    </tr>\n",
       "    <tr>\n",
       "      <th>5</th>\n",
       "      <td>Delightful</td>\n",
       "      <td>Nice camera for front and back.. The display i...</td>\n",
       "    </tr>\n",
       "  </tbody>\n",
       "</table>\n",
       "</div>"
      ],
      "text/plain": [
       "                    Review                                        Full_Review\n",
       "Ratings                                                                      \n",
       "5                Wonderful  Ok, so after almost 3 years I am again back in...\n",
       "5                Must buy!  I will just say its an awesome phone. Starting...\n",
       "5                 Terrific  Have used both iPhone X and iPhone XR and I ca...\n",
       "4        Worth every penny  Just go for it without a second thought, if yo...\n",
       "5               Delightful  Nice camera for front and back.. The display i..."
      ]
     },
     "execution_count": 115,
     "metadata": {},
     "output_type": "execute_result"
    }
   ],
   "source": [
    "final.set_index('Ratings').tail()"
   ]
  },
  {
   "cell_type": "markdown",
   "id": "ef0d9c02",
   "metadata": {},
   "source": [
    "## Question 6\n",
    "Scrape data for first 100 sneakers you find when you visit flipkart.com and search for “sneakers” in the \n",
    "search field. \n",
    "You have to scrape 4 attributes of each sneaker: \n",
    "1. Brand \n",
    "2. Product Description \n",
    "3. Price \n"
   ]
  },
  {
   "cell_type": "code",
   "execution_count": 395,
   "id": "95bc3062",
   "metadata": {},
   "outputs": [],
   "source": [
    "driver=webdriver.Chrome(r\"C:\\Users\\Hello\\Downloads\\chromedriver_win32\\chromedriver.exe\")"
   ]
  },
  {
   "cell_type": "code",
   "execution_count": 396,
   "id": "ccaba1e4",
   "metadata": {},
   "outputs": [],
   "source": [
    "driver.get(\"https://flipkart.com/\")"
   ]
  },
  {
   "cell_type": "code",
   "execution_count": 397,
   "id": "77e3f1a0",
   "metadata": {},
   "outputs": [],
   "source": [
    "search = driver.find_element_by_xpath(\"//div[@class='_3OO5Xc']/input\")\n",
    "search.send_keys('sneakers')"
   ]
  },
  {
   "cell_type": "code",
   "execution_count": 398,
   "id": "bab00b8a",
   "metadata": {},
   "outputs": [],
   "source": [
    "btn=driver.find_element_by_xpath(\"//button[@class='L0Z3Pu']\")\n",
    "btn.click()"
   ]
  },
  {
   "cell_type": "code",
   "execution_count": 399,
   "id": "5d75af66",
   "metadata": {},
   "outputs": [],
   "source": [
    "brand=[]\n",
    "product_description=[]\n",
    "price=[]"
   ]
  },
  {
   "cell_type": "code",
   "execution_count": 400,
   "id": "c0803188",
   "metadata": {},
   "outputs": [],
   "source": [
    "b=driver.find_elements_by_xpath(\"//div[@class='_2WkVRV']\")\n",
    "p=driver.find_elements_by_xpath(\"//a[@class='IRpwTa']\")\n",
    "pr=driver.find_elements_by_xpath(\"//div[@class='_30jeq3']\")"
   ]
  },
  {
   "cell_type": "code",
   "execution_count": 401,
   "id": "5dfb3012",
   "metadata": {},
   "outputs": [],
   "source": [
    "for i in b:\n",
    "    br=i.text\n",
    "    brand.append(br)\n",
    "\n",
    "for i in p:\n",
    "    pd=i.text\n",
    "    product_description.append(pd)\n",
    "\n",
    "for i in pr:\n",
    "    p=i.text\n",
    "    price.append(p)"
   ]
  },
  {
   "cell_type": "code",
   "execution_count": 402,
   "id": "4ac895b8",
   "metadata": {},
   "outputs": [],
   "source": [
    "data = list(zip(brand,product_description,price))"
   ]
  },
  {
   "cell_type": "code",
   "execution_count": 403,
   "id": "deb0abf2",
   "metadata": {},
   "outputs": [],
   "source": [
    "import pandas as pd"
   ]
  },
  {
   "cell_type": "code",
   "execution_count": 439,
   "id": "4460a269",
   "metadata": {},
   "outputs": [],
   "source": [
    "df=pd.DataFrame(data,columns=['Brands','Descriptions','Price'])"
   ]
  },
  {
   "cell_type": "code",
   "execution_count": 406,
   "id": "f4e60d2b",
   "metadata": {},
   "outputs": [],
   "source": [
    "#df"
   ]
  },
  {
   "cell_type": "code",
   "execution_count": 409,
   "id": "35336b6a",
   "metadata": {},
   "outputs": [],
   "source": [
    "two=driver.find_element_by_xpath(\"//nav[@class='yFHi8N']/a[3]\").click()"
   ]
  },
  {
   "cell_type": "code",
   "execution_count": 410,
   "id": "2451131d",
   "metadata": {},
   "outputs": [],
   "source": [
    "brand1=[]\n",
    "product_description1=[]\n",
    "price1=[]"
   ]
  },
  {
   "cell_type": "code",
   "execution_count": 411,
   "id": "8ae17fe1",
   "metadata": {},
   "outputs": [],
   "source": [
    "b1=driver.find_elements_by_xpath(\"//div[@class='_2WkVRV']\")\n",
    "p1=driver.find_elements_by_xpath(\"//a[@class='IRpwTa']\")\n",
    "pr1=driver.find_elements_by_xpath(\"//div[@class='_30jeq3']\")"
   ]
  },
  {
   "cell_type": "code",
   "execution_count": 412,
   "id": "f467e73b",
   "metadata": {},
   "outputs": [],
   "source": [
    "for i in b1:\n",
    "    br=i.text\n",
    "    brand1.append(br)\n",
    "\n",
    "for i in p1:\n",
    "    pd=i.text\n",
    "    product_description1.append(pd)\n",
    "\n",
    "for i in pr1:\n",
    "    p=i.text\n",
    "    price1.append(p)"
   ]
  },
  {
   "cell_type": "code",
   "execution_count": 413,
   "id": "f973613d",
   "metadata": {},
   "outputs": [],
   "source": [
    "data1 = list(zip(brand1,product_description1,price1))"
   ]
  },
  {
   "cell_type": "code",
   "execution_count": 414,
   "id": "3df79de2",
   "metadata": {},
   "outputs": [],
   "source": [
    "import pandas as pd"
   ]
  },
  {
   "cell_type": "code",
   "execution_count": 415,
   "id": "0d539882",
   "metadata": {},
   "outputs": [],
   "source": [
    "df1=pd.DataFrame(data1,columns=['Brands','Descriptions','Price'])"
   ]
  },
  {
   "cell_type": "code",
   "execution_count": 417,
   "id": "66ffe8aa",
   "metadata": {},
   "outputs": [],
   "source": [
    "#df1"
   ]
  },
  {
   "cell_type": "code",
   "execution_count": 418,
   "id": "54429e2d",
   "metadata": {},
   "outputs": [],
   "source": [
    "three=driver.find_element_by_xpath(\"//nav[@class='yFHi8N']/a[4]\").click()"
   ]
  },
  {
   "cell_type": "code",
   "execution_count": 419,
   "id": "b5d26828",
   "metadata": {},
   "outputs": [],
   "source": [
    "brand2=[]\n",
    "product_description2=[]\n",
    "price2=[]"
   ]
  },
  {
   "cell_type": "code",
   "execution_count": 420,
   "id": "4aa18732",
   "metadata": {},
   "outputs": [],
   "source": [
    "b2=driver.find_elements_by_xpath(\"//div[@class='_2WkVRV']\")\n",
    "p2=driver.find_elements_by_xpath(\"//a[@class='IRpwTa']\")\n",
    "pr2=driver.find_elements_by_xpath(\"//div[@class='_30jeq3']\")"
   ]
  },
  {
   "cell_type": "code",
   "execution_count": 421,
   "id": "86db3c1c",
   "metadata": {},
   "outputs": [],
   "source": [
    "for i in b2:\n",
    "    br=i.text\n",
    "    brand2.append(br)\n",
    "\n",
    "for i in p2:\n",
    "    pd=i.text\n",
    "    product_description2.append(pd)\n",
    "\n",
    "for i in pr2:\n",
    "    p=i.text\n",
    "    price2.append(p)"
   ]
  },
  {
   "cell_type": "code",
   "execution_count": 422,
   "id": "819986d9",
   "metadata": {},
   "outputs": [],
   "source": [
    "data2 = list(zip(brand2,product_description2,price2))"
   ]
  },
  {
   "cell_type": "code",
   "execution_count": 423,
   "id": "dae72faf",
   "metadata": {},
   "outputs": [],
   "source": [
    "import pandas as pd"
   ]
  },
  {
   "cell_type": "code",
   "execution_count": 424,
   "id": "01218a77",
   "metadata": {},
   "outputs": [],
   "source": [
    "df2=pd.DataFrame(data2,columns=['Brands','Descriptions','Price'])"
   ]
  },
  {
   "cell_type": "code",
   "execution_count": 426,
   "id": "cfe7ad59",
   "metadata": {},
   "outputs": [],
   "source": [
    "#df2"
   ]
  },
  {
   "cell_type": "code",
   "execution_count": 427,
   "id": "a787f9ed",
   "metadata": {},
   "outputs": [],
   "source": [
    "four=driver.find_element_by_xpath(\"//nav[@class='yFHi8N']/a[5]\").click()"
   ]
  },
  {
   "cell_type": "code",
   "execution_count": 428,
   "id": "a563f46a",
   "metadata": {},
   "outputs": [],
   "source": [
    "brand3=[]\n",
    "product_description3=[]\n",
    "price3=[]"
   ]
  },
  {
   "cell_type": "code",
   "execution_count": 429,
   "id": "d2d5fd93",
   "metadata": {},
   "outputs": [],
   "source": [
    "b3=driver.find_elements_by_xpath(\"//div[@class='_2WkVRV']\")\n",
    "p3=driver.find_elements_by_xpath(\"//a[@class='IRpwTa']\")\n",
    "pr3=driver.find_elements_by_xpath(\"//div[@class='_30jeq3']\")\n",
    "\n",
    "for i in b3:\n",
    "    br=i.text\n",
    "    brand3.append(br)\n",
    "\n",
    "for i in p3:\n",
    "    pd=i.text\n",
    "    product_description3.append(pd)\n",
    "\n",
    "for i in pr3:\n",
    "    p=i.text\n",
    "    price3.append(p)"
   ]
  },
  {
   "cell_type": "code",
   "execution_count": 430,
   "id": "8053e8b3",
   "metadata": {},
   "outputs": [],
   "source": [
    "data3 = list(zip(brand3,product_description3,price3))"
   ]
  },
  {
   "cell_type": "code",
   "execution_count": 431,
   "id": "728306f7",
   "metadata": {},
   "outputs": [],
   "source": [
    "import pandas as pd"
   ]
  },
  {
   "cell_type": "code",
   "execution_count": 432,
   "id": "175ea919",
   "metadata": {},
   "outputs": [],
   "source": [
    "df3=pd.DataFrame(data3,columns=['Brands','Descriptions','Price'])"
   ]
  },
  {
   "cell_type": "code",
   "execution_count": 435,
   "id": "5f315781",
   "metadata": {},
   "outputs": [],
   "source": [
    "import pandas as pd"
   ]
  },
  {
   "cell_type": "code",
   "execution_count": 440,
   "id": "60fda022",
   "metadata": {},
   "outputs": [],
   "source": [
    "Sneakers=pd.concat([df,df1,df2,df3],axis=0)"
   ]
  },
  {
   "cell_type": "code",
   "execution_count": 441,
   "id": "5bfc40d3",
   "metadata": {},
   "outputs": [
    {
     "data": {
      "text/html": [
       "<div>\n",
       "<style scoped>\n",
       "    .dataframe tbody tr th:only-of-type {\n",
       "        vertical-align: middle;\n",
       "    }\n",
       "\n",
       "    .dataframe tbody tr th {\n",
       "        vertical-align: top;\n",
       "    }\n",
       "\n",
       "    .dataframe thead th {\n",
       "        text-align: right;\n",
       "    }\n",
       "</style>\n",
       "<table border=\"1\" class=\"dataframe\">\n",
       "  <thead>\n",
       "    <tr style=\"text-align: right;\">\n",
       "      <th></th>\n",
       "      <th>Brands</th>\n",
       "      <th>Descriptions</th>\n",
       "      <th>Price</th>\n",
       "    </tr>\n",
       "  </thead>\n",
       "  <tbody>\n",
       "    <tr>\n",
       "      <th>0</th>\n",
       "      <td>NIKE</td>\n",
       "      <td>Tanjun Sneakers For Men</td>\n",
       "      <td>₹1,968</td>\n",
       "    </tr>\n",
       "    <tr>\n",
       "      <th>1</th>\n",
       "      <td>NIKE</td>\n",
       "      <td>Court Vapor Lite Hard Court Sneakers For Men</td>\n",
       "      <td>₹6,685</td>\n",
       "    </tr>\n",
       "    <tr>\n",
       "      <th>2</th>\n",
       "      <td>Chevit</td>\n",
       "      <td>Super Stylish &amp; Trendy Combo Pack of 02 Pairs ...</td>\n",
       "      <td>₹699</td>\n",
       "    </tr>\n",
       "    <tr>\n",
       "      <th>3</th>\n",
       "      <td>RapidBox</td>\n",
       "      <td>Modern Trendy Shoes Sneakers For Men</td>\n",
       "      <td>₹680</td>\n",
       "    </tr>\n",
       "    <tr>\n",
       "      <th>4</th>\n",
       "      <td>BRUTON</td>\n",
       "      <td>White Sneaker For Men Sneakers For Men</td>\n",
       "      <td>₹379</td>\n",
       "    </tr>\n",
       "  </tbody>\n",
       "</table>\n",
       "</div>"
      ],
      "text/plain": [
       "     Brands                                       Descriptions   Price\n",
       "0      NIKE                            Tanjun Sneakers For Men  ₹1,968\n",
       "1      NIKE       Court Vapor Lite Hard Court Sneakers For Men  ₹6,685\n",
       "2    Chevit  Super Stylish & Trendy Combo Pack of 02 Pairs ...    ₹699\n",
       "3  RapidBox               Modern Trendy Shoes Sneakers For Men    ₹680\n",
       "4    BRUTON             White Sneaker For Men Sneakers For Men    ₹379"
      ]
     },
     "execution_count": 441,
     "metadata": {},
     "output_type": "execute_result"
    }
   ],
   "source": [
    "Sneakers.head()"
   ]
  },
  {
   "cell_type": "markdown",
   "id": "889b0f06",
   "metadata": {},
   "source": [
    "# Question 7\n",
    "Go to the link - https://www.myntra.com/shoes \n",
    "Set Price filter to “Rs. 6649 to Rs. 13099” , Color filter to “Black”, as shown in the below image.\n",
    "And then scrape First 100 shoes data you get. The data should include \n",
    "“Brand” of the shoes , Short Shoe \n",
    "description, price of the shoe"
   ]
  },
  {
   "cell_type": "code",
   "execution_count": 442,
   "id": "edf148bb",
   "metadata": {},
   "outputs": [],
   "source": [
    "driver=webdriver.Chrome(r\"C:\\Users\\Hello\\Downloads\\chromedriver_win32\\chromedriver.exe\")"
   ]
  },
  {
   "cell_type": "code",
   "execution_count": 443,
   "id": "3df09966",
   "metadata": {},
   "outputs": [],
   "source": [
    "driver.get(\"https://www.myntra.com/shoes/\")"
   ]
  },
  {
   "cell_type": "code",
   "execution_count": 444,
   "id": "ccb8f985",
   "metadata": {},
   "outputs": [],
   "source": [
    "filters=driver.find_element_by_xpath(\"//label[@class='common-customCheckbox vertical-filters-label']\")\n",
    "filters.click()  # applying filter to the 'casual shoes' filter as the price range asked in the question is in this section."
   ]
  },
  {
   "cell_type": "code",
   "execution_count": 445,
   "id": "b89c253b",
   "metadata": {},
   "outputs": [],
   "source": [
    "filters=driver.find_element_by_xpath(\"//li[@class='colour-listItem']/label\")\n",
    "filters.click() #applying filter to the color 'black'."
   ]
  },
  {
   "cell_type": "code",
   "execution_count": 446,
   "id": "994c8023",
   "metadata": {},
   "outputs": [],
   "source": [
    "filters=driver.find_element_by_xpath(\"//ul[@class='price-list']/li[2]/label\")\n",
    "filters.click() #applying filter to the price range between '6649 to Rs. 13099'"
   ]
  },
  {
   "cell_type": "code",
   "execution_count": 447,
   "id": "3249e9d1",
   "metadata": {},
   "outputs": [],
   "source": [
    "brand=[]\n",
    "description=[]\n",
    "price=[]"
   ]
  },
  {
   "cell_type": "code",
   "execution_count": 448,
   "id": "13950d90",
   "metadata": {},
   "outputs": [],
   "source": [
    "br=driver.find_elements_by_xpath(\"//h3[@class='product-brand']\")\n",
    "des=driver.find_elements_by_xpath(\"//h4[@class='product-product']\")\n",
    "pr=driver.find_elements_by_xpath(\"//div[@class='product-price']/span\")\n",
    "\n",
    "for i in br:\n",
    "    name=i.text\n",
    "    brand.append(name)\n",
    "\n",
    "for i in des:\n",
    "    ds=i.text\n",
    "    description.append(ds)\n",
    "    \n",
    "for i in pr:\n",
    "    p=i.text\n",
    "    price.append(p)"
   ]
  },
  {
   "cell_type": "code",
   "execution_count": 449,
   "id": "8fec4d43",
   "metadata": {},
   "outputs": [],
   "source": [
    "#price"
   ]
  },
  {
   "cell_type": "code",
   "execution_count": 450,
   "id": "01546caa",
   "metadata": {},
   "outputs": [],
   "source": [
    "data=list(zip(brand,description,price))"
   ]
  },
  {
   "cell_type": "code",
   "execution_count": 451,
   "id": "46640b4c",
   "metadata": {},
   "outputs": [],
   "source": [
    "df=pd.DataFrame(data,columns=['Brands','Description','Price'])"
   ]
  },
  {
   "cell_type": "code",
   "execution_count": 452,
   "id": "f48433a6",
   "metadata": {},
   "outputs": [],
   "source": [
    "#df"
   ]
  },
  {
   "cell_type": "code",
   "execution_count": 453,
   "id": "9b380cae",
   "metadata": {},
   "outputs": [],
   "source": [
    "next=driver.find_element_by_xpath(\"//li[@class='pagination-number']\")\n",
    "next.click()"
   ]
  },
  {
   "cell_type": "code",
   "execution_count": 454,
   "id": "9363058c",
   "metadata": {},
   "outputs": [],
   "source": [
    "brand1=[]\n",
    "description1=[]\n",
    "price1=[]\n",
    "\n",
    "br1=driver.find_elements_by_xpath(\"//h3[@class='product-brand']\")\n",
    "des1=driver.find_elements_by_xpath(\"//h4[@class='product-product']\")\n",
    "pr1=driver.find_elements_by_xpath(\"//div[@class='product-price']/span\")\n",
    "\n",
    "for i in br1:\n",
    "    name=i.text\n",
    "    brand1.append(name)\n",
    "\n",
    "for i in des1:\n",
    "    ds=i.text\n",
    "    description1.append(ds)\n",
    "    \n",
    "for i in pr1:\n",
    "    p=i.text\n",
    "    price1.append(p)"
   ]
  },
  {
   "cell_type": "code",
   "execution_count": 455,
   "id": "a637c45f",
   "metadata": {},
   "outputs": [],
   "source": [
    "data1 = list(zip(brand1,description1,price1))"
   ]
  },
  {
   "cell_type": "code",
   "execution_count": 456,
   "id": "1641857d",
   "metadata": {},
   "outputs": [],
   "source": [
    "df1=pd.DataFrame(data1,columns=['Brands','Description','Price'])"
   ]
  },
  {
   "cell_type": "code",
   "execution_count": 457,
   "id": "7298ff25",
   "metadata": {},
   "outputs": [],
   "source": [
    "df1.inplace=True"
   ]
  },
  {
   "cell_type": "code",
   "execution_count": 458,
   "id": "c564b87b",
   "metadata": {},
   "outputs": [],
   "source": [
    "final=pd.concat([df,df1],axis=0)"
   ]
  },
  {
   "cell_type": "code",
   "execution_count": 459,
   "id": "7238f4cf",
   "metadata": {},
   "outputs": [
    {
     "data": {
      "text/html": [
       "<div>\n",
       "<style scoped>\n",
       "    .dataframe tbody tr th:only-of-type {\n",
       "        vertical-align: middle;\n",
       "    }\n",
       "\n",
       "    .dataframe tbody tr th {\n",
       "        vertical-align: top;\n",
       "    }\n",
       "\n",
       "    .dataframe thead th {\n",
       "        text-align: right;\n",
       "    }\n",
       "</style>\n",
       "<table border=\"1\" class=\"dataframe\">\n",
       "  <thead>\n",
       "    <tr style=\"text-align: right;\">\n",
       "      <th></th>\n",
       "      <th>Brands</th>\n",
       "      <th>Description</th>\n",
       "      <th>Price</th>\n",
       "    </tr>\n",
       "  </thead>\n",
       "  <tbody>\n",
       "    <tr>\n",
       "      <th>0</th>\n",
       "      <td>Skechers</td>\n",
       "      <td>Men Energy Racer Sneakers</td>\n",
       "      <td>Rs. 6999</td>\n",
       "    </tr>\n",
       "    <tr>\n",
       "      <th>1</th>\n",
       "      <td>Skechers</td>\n",
       "      <td>Men ARCH FIT-TITAN Sneakers</td>\n",
       "      <td>Rs. 6999</td>\n",
       "    </tr>\n",
       "    <tr>\n",
       "      <th>2</th>\n",
       "      <td>Nike</td>\n",
       "      <td>Men BlazerLow '77 Sneakers</td>\n",
       "      <td>Rs. 7195</td>\n",
       "    </tr>\n",
       "    <tr>\n",
       "      <th>3</th>\n",
       "      <td>Hush Puppies</td>\n",
       "      <td>Men Leather Slip-On Sneakers</td>\n",
       "      <td>Rs. 6999</td>\n",
       "    </tr>\n",
       "    <tr>\n",
       "      <th>4</th>\n",
       "      <td>Calvin Klein</td>\n",
       "      <td>Men Textured Leather Sneaker</td>\n",
       "      <td>Rs. 9999</td>\n",
       "    </tr>\n",
       "    <tr>\n",
       "      <th>...</th>\n",
       "      <td>...</td>\n",
       "      <td>...</td>\n",
       "      <td>...</td>\n",
       "    </tr>\n",
       "    <tr>\n",
       "      <th>45</th>\n",
       "      <td>Calvin Klein</td>\n",
       "      <td>Men Vulcanized Sneakers</td>\n",
       "      <td>(30% OFF)</td>\n",
       "    </tr>\n",
       "    <tr>\n",
       "      <th>46</th>\n",
       "      <td>Geox</td>\n",
       "      <td>Men Leather Sneakers</td>\n",
       "      <td>Rs. 6999</td>\n",
       "    </tr>\n",
       "    <tr>\n",
       "      <th>47</th>\n",
       "      <td>Tommy Hilfiger</td>\n",
       "      <td>Men Air Leather Sneakers</td>\n",
       "      <td>Rs. 8169Rs. 8599</td>\n",
       "    </tr>\n",
       "    <tr>\n",
       "      <th>48</th>\n",
       "      <td>Geox</td>\n",
       "      <td>Women Woven Design Slip-On Sneakers</td>\n",
       "      <td>(5% OFF)</td>\n",
       "    </tr>\n",
       "    <tr>\n",
       "      <th>49</th>\n",
       "      <td>H&amp;M</td>\n",
       "      <td>Black Leather Chelsea boots</td>\n",
       "      <td>Rs. 7599Rs. 7999</td>\n",
       "    </tr>\n",
       "  </tbody>\n",
       "</table>\n",
       "<p>100 rows × 3 columns</p>\n",
       "</div>"
      ],
      "text/plain": [
       "            Brands                          Description             Price\n",
       "0         Skechers            Men Energy Racer Sneakers          Rs. 6999\n",
       "1         Skechers          Men ARCH FIT-TITAN Sneakers          Rs. 6999\n",
       "2             Nike           Men BlazerLow '77 Sneakers          Rs. 7195\n",
       "3     Hush Puppies         Men Leather Slip-On Sneakers          Rs. 6999\n",
       "4     Calvin Klein         Men Textured Leather Sneaker          Rs. 9999\n",
       "..             ...                                  ...               ...\n",
       "45    Calvin Klein              Men Vulcanized Sneakers         (30% OFF)\n",
       "46            Geox                 Men Leather Sneakers          Rs. 6999\n",
       "47  Tommy Hilfiger             Men Air Leather Sneakers  Rs. 8169Rs. 8599\n",
       "48            Geox  Women Woven Design Slip-On Sneakers          (5% OFF)\n",
       "49             H&M          Black Leather Chelsea boots  Rs. 7599Rs. 7999\n",
       "\n",
       "[100 rows x 3 columns]"
      ]
     },
     "execution_count": 459,
     "metadata": {},
     "output_type": "execute_result"
    }
   ],
   "source": [
    "final"
   ]
  },
  {
   "cell_type": "markdown",
   "id": "0f4f8ea5",
   "metadata": {},
   "source": [
    "# Question 8\n",
    "Go to webpage https://www.amazon.in/ \n",
    "Enter “Laptop” in the search field and then click the search icon. \n",
    "Then set CPU Type filter to “Intel Core i7” and “Intel Core i9” as shown in the below image: \n",
    "After setting the filters scrape first 10 laptops data. You have to scrape 3 attributes for each laptop: \n",
    "1. Title \n",
    "2. Ratings \n",
    "3. Price"
   ]
  },
  {
   "cell_type": "code",
   "execution_count": 118,
   "id": "33971b36",
   "metadata": {},
   "outputs": [],
   "source": [
    "driver=webdriver.Chrome(r\"C:\\Users\\Hello\\Downloads\\chromedriver_win32\\chromedriver.exe\")"
   ]
  },
  {
   "cell_type": "code",
   "execution_count": 119,
   "id": "bbcb40dc",
   "metadata": {},
   "outputs": [],
   "source": [
    "driver.get(\"https://www.amazon.in/\")"
   ]
  },
  {
   "cell_type": "code",
   "execution_count": 120,
   "id": "fb6e6a9b",
   "metadata": {},
   "outputs": [],
   "source": [
    "search=driver.find_element_by_id('twotabsearchtextbox').send_keys('Laptop')"
   ]
  },
  {
   "cell_type": "code",
   "execution_count": 121,
   "id": "97bd2182",
   "metadata": {},
   "outputs": [],
   "source": [
    "btn=driver.find_element_by_id('nav-search-submit-button').click()"
   ]
  },
  {
   "cell_type": "code",
   "execution_count": 126,
   "id": "4ec9ac4c",
   "metadata": {},
   "outputs": [],
   "source": [
    "driver.find_element_by_xpath(\"//div[@class='a-section a-spacing-none']/ul[4]/li[13]/span/a/div\").click()\n",
    "#filter=driver.find_element_by_id('p_n_feature_thirteen_browse-bin/16757432031').click()"
   ]
  },
  {
   "cell_type": "code",
   "execution_count": 127,
   "id": "b908d2b0",
   "metadata": {},
   "outputs": [],
   "source": [
    "title=[]\n",
    "rating=[]\n",
    "price=[]"
   ]
  },
  {
   "cell_type": "code",
   "execution_count": 9,
   "id": "23604d6b",
   "metadata": {},
   "outputs": [],
   "source": [
    "tit=driver.find_elements_by_xpath(\"//span[@class='a-size-medium a-color-base a-text-normal']\")\n",
    "                                  \n",
    "for i in tit:\n",
    "    t=i.text\n",
    "    title.append(t)\n",
    "#title[0:10]"
   ]
  },
  {
   "cell_type": "code",
   "execution_count": 42,
   "id": "2d0df219",
   "metadata": {},
   "outputs": [],
   "source": [
    "rat=driver.find_elements_by_class_name('a-icon-alt')\n",
    "\n",
    "for i in rat:\n",
    "    r=i.text\n",
    "    rating.append(r)\n",
    "#rating[0:10]"
   ]
  },
  {
   "cell_type": "code",
   "execution_count": 40,
   "id": "e6a811c9",
   "metadata": {},
   "outputs": [],
   "source": [
    "pr=driver.find_elements_by_xpath(\"//span[@class='a-price-whole']\")\n",
    "\n",
    "for i in pr:\n",
    "    p=i.text\n",
    "    price.append(p)\n",
    "#price[0:10]"
   ]
  },
  {
   "cell_type": "code",
   "execution_count": 139,
   "id": "ec1bb3fe",
   "metadata": {},
   "outputs": [],
   "source": [
    "urls=driver.find_elements_by_xpath(\"//a[@class='a-link-normal a-text-normal']\")#collecting urls of all the laptop\n",
    "UR=[]\n",
    "NoSuchElementException=[]\n",
    "for i in urls[:10]:\n",
    "    UR.append(i.get_attribute('href'))"
   ]
  },
  {
   "cell_type": "code",
   "execution_count": 140,
   "id": "5ca8bcda",
   "metadata": {},
   "outputs": [
    {
     "ename": "TypeError",
     "evalue": "catching classes that do not inherit from BaseException is not allowed",
     "output_type": "error",
     "traceback": [
      "\u001b[1;31m---------------------------------------------------------------------------\u001b[0m",
      "\u001b[1;31mNameError\u001b[0m                                 Traceback (most recent call last)",
      "\u001b[1;32m<ipython-input-140-8c5ae20a0ec9>\u001b[0m in \u001b[0;36m<module>\u001b[1;34m\u001b[0m\n\u001b[0;32m      4\u001b[0m         \u001b[0mrating\u001b[0m\u001b[1;33m=\u001b[0m\u001b[0mdriver\u001b[0m\u001b[1;33m.\u001b[0m\u001b[0mfind_element_by_xpath\u001b[0m\u001b[1;33m(\u001b[0m\u001b[1;34m\"//span[@class='a-size-base a-nowrap']//span\"\u001b[0m\u001b[1;33m)\u001b[0m\u001b[1;31m#locating the rating\u001b[0m\u001b[1;33m\u001b[0m\u001b[1;33m\u001b[0m\u001b[0m\n\u001b[1;32m----> 5\u001b[1;33m         \u001b[0mRatings\u001b[0m\u001b[1;33m.\u001b[0m\u001b[0mappend\u001b[0m\u001b[1;33m(\u001b[0m\u001b[0mrating\u001b[0m\u001b[1;33m.\u001b[0m\u001b[0mtext\u001b[0m\u001b[1;33m)\u001b[0m\u001b[1;31m#appending the ratings in Ratings list\u001b[0m\u001b[1;33m\u001b[0m\u001b[1;33m\u001b[0m\u001b[0m\n\u001b[0m\u001b[0;32m      6\u001b[0m \u001b[1;33m\u001b[0m\u001b[0m\n",
      "\u001b[1;31mNameError\u001b[0m: name 'Ratings' is not defined",
      "\nDuring handling of the above exception, another exception occurred:\n",
      "\u001b[1;31mTypeError\u001b[0m                                 Traceback (most recent call last)",
      "\u001b[1;32m<ipython-input-140-8c5ae20a0ec9>\u001b[0m in \u001b[0;36m<module>\u001b[1;34m\u001b[0m\n\u001b[0;32m      5\u001b[0m         \u001b[0mRatings\u001b[0m\u001b[1;33m.\u001b[0m\u001b[0mappend\u001b[0m\u001b[1;33m(\u001b[0m\u001b[0mrating\u001b[0m\u001b[1;33m.\u001b[0m\u001b[0mtext\u001b[0m\u001b[1;33m)\u001b[0m\u001b[1;31m#appending the ratings in Ratings list\u001b[0m\u001b[1;33m\u001b[0m\u001b[1;33m\u001b[0m\u001b[0m\n\u001b[0;32m      6\u001b[0m \u001b[1;33m\u001b[0m\u001b[0m\n\u001b[1;32m----> 7\u001b[1;33m     \u001b[1;32mexcept\u001b[0m \u001b[0mNoSuchElementException\u001b[0m\u001b[1;33m:\u001b[0m\u001b[1;33m\u001b[0m\u001b[1;33m\u001b[0m\u001b[0m\n\u001b[0m\u001b[0;32m      8\u001b[0m         \u001b[0mRatings\u001b[0m\u001b[1;33m.\u001b[0m\u001b[0mappend\u001b[0m\u001b[1;33m(\u001b[0m\u001b[1;34m\"NO rating\"\u001b[0m\u001b[1;33m)\u001b[0m\u001b[1;33m\u001b[0m\u001b[1;33m\u001b[0m\u001b[0m\n",
      "\u001b[1;31mTypeError\u001b[0m: catching classes that do not inherit from BaseException is not allowed"
     ]
    }
   ],
   "source": [
    "for url in UR:#loop for every laptop in the list\n",
    "    driver.get(url)\n",
    "    try:                  #exception handling for nosuchelementexception                                                    #click the rating link found\n",
    "        rating=driver.find_element_by_xpath(\"//span[@class='a-size-base a-nowrap']//span\")#locating the rating\n",
    "        Ratings.append(rating.text)#appending the ratings in Ratings list\n",
    "        \n",
    "    except NoSuchElementException:\n",
    "        Ratings.append(\"NO rating\")"
   ]
  },
  {
   "cell_type": "code",
   "execution_count": null,
   "id": "0e1f9d29",
   "metadata": {},
   "outputs": [],
   "source": []
  },
  {
   "cell_type": "code",
   "execution_count": null,
   "id": "bdf86f25",
   "metadata": {},
   "outputs": [],
   "source": []
  },
  {
   "cell_type": "markdown",
   "id": "bdc1a399",
   "metadata": {},
   "source": [
    "# Question:9\n",
    "Write a python program to scrape data for first 10 job results for Data Scientist Designation in Noida \n",
    "location. You have to scrape company name, No. of days ago when job was posted, Rating of the company."
   ]
  },
  {
   "cell_type": "code",
   "execution_count": 463,
   "id": "728ae3d9",
   "metadata": {},
   "outputs": [],
   "source": [
    "driver=webdriver.Chrome(r\"C:\\Users\\Hello\\Downloads\\chromedriver_win32\\chromedriver.exe\")"
   ]
  },
  {
   "cell_type": "code",
   "execution_count": 464,
   "id": "2e8b37f0",
   "metadata": {},
   "outputs": [],
   "source": [
    "driver.get(\"https://www.ambitionbox.com/\")"
   ]
  },
  {
   "cell_type": "code",
   "execution_count": 465,
   "id": "ab466f94",
   "metadata": {},
   "outputs": [],
   "source": [
    "job = driver.find_element_by_xpath(\"//a[@class='link jobs']\").click()"
   ]
  },
  {
   "cell_type": "code",
   "execution_count": 466,
   "id": "545ad10a",
   "metadata": {},
   "outputs": [],
   "source": [
    "search=driver.find_element_by_xpath(\"//span[@class='twitter-typeahead']/input\").send_keys('Data Scientist')"
   ]
  },
  {
   "cell_type": "code",
   "execution_count": 467,
   "id": "373222ff",
   "metadata": {},
   "outputs": [],
   "source": [
    "btn=driver.find_element_by_xpath(\"//span[@class='ctas-btn-medium']\").click()"
   ]
  },
  {
   "cell_type": "code",
   "execution_count": 469,
   "id": "72bfc072",
   "metadata": {},
   "outputs": [],
   "source": [
    "loc=driver.find_element_by_id(\"location_Noida\").click()"
   ]
  },
  {
   "cell_type": "code",
   "execution_count": 470,
   "id": "6a3c3faa",
   "metadata": {},
   "outputs": [],
   "source": [
    "name=[]\n",
    "post=[]\n",
    "rating=[]"
   ]
  },
  {
   "cell_type": "code",
   "execution_count": 471,
   "id": "2bdf1ef7",
   "metadata": {},
   "outputs": [],
   "source": [
    "company=driver.find_elements_by_xpath(\"//p[@class='company body-medium']\")\n",
    "days=driver.find_elements_by_xpath(\"//span[@class='body-small-l']\")\n",
    "rev=driver.find_elements_by_xpath(\"//a[@class='rating rating-4']\")\n",
    "\n",
    "for i in company:\n",
    "    co=i.text\n",
    "    name.append(co)\n",
    "    \n",
    "for i in days:\n",
    "    ds=i.text\n",
    "    post.append(ds)\n",
    "    \n",
    "for i in rev:\n",
    "    rat=i.text\n",
    "    rating.append(rat)"
   ]
  },
  {
   "cell_type": "code",
   "execution_count": 472,
   "id": "85077137",
   "metadata": {},
   "outputs": [],
   "source": [
    "post  #comprehending the list\n",
    "new_post=[]\n",
    "for x in post:\n",
    "    if 'ago' in x:\n",
    "        new_post.append(x)\n",
    "#new_post"
   ]
  },
  {
   "cell_type": "code",
   "execution_count": 473,
   "id": "3d401cf4",
   "metadata": {},
   "outputs": [],
   "source": [
    "data=list(zip(name,new_post,rating))"
   ]
  },
  {
   "cell_type": "code",
   "execution_count": 474,
   "id": "d3928d42",
   "metadata": {},
   "outputs": [],
   "source": [
    "import pandas as pd"
   ]
  },
  {
   "cell_type": "code",
   "execution_count": 475,
   "id": "62093a8b",
   "metadata": {},
   "outputs": [],
   "source": [
    "df=pd.DataFrame(data,columns=['Company_Name','Posted_On','Ratings'])"
   ]
  },
  {
   "cell_type": "code",
   "execution_count": 476,
   "id": "29f9b496",
   "metadata": {},
   "outputs": [
    {
     "data": {
      "text/html": [
       "<div>\n",
       "<style scoped>\n",
       "    .dataframe tbody tr th:only-of-type {\n",
       "        vertical-align: middle;\n",
       "    }\n",
       "\n",
       "    .dataframe tbody tr th {\n",
       "        vertical-align: top;\n",
       "    }\n",
       "\n",
       "    .dataframe thead th {\n",
       "        text-align: right;\n",
       "    }\n",
       "</style>\n",
       "<table border=\"1\" class=\"dataframe\">\n",
       "  <thead>\n",
       "    <tr style=\"text-align: right;\">\n",
       "      <th></th>\n",
       "      <th>Company_Name</th>\n",
       "      <th>Posted_On</th>\n",
       "      <th>Ratings</th>\n",
       "    </tr>\n",
       "  </thead>\n",
       "  <tbody>\n",
       "    <tr>\n",
       "      <th>0</th>\n",
       "      <td>LG Electronics India Pvt. Ltd.</td>\n",
       "      <td>3d ago</td>\n",
       "      <td>4.1</td>\n",
       "    </tr>\n",
       "    <tr>\n",
       "      <th>1</th>\n",
       "      <td>GENPACT India Private Limited</td>\n",
       "      <td>10d ago</td>\n",
       "      <td>4.1</td>\n",
       "    </tr>\n",
       "    <tr>\n",
       "      <th>2</th>\n",
       "      <td>GENPACT India Private Limited</td>\n",
       "      <td>10d ago</td>\n",
       "      <td>4.0</td>\n",
       "    </tr>\n",
       "    <tr>\n",
       "      <th>3</th>\n",
       "      <td>NTT Data Business Solutions Pvt Ltd</td>\n",
       "      <td>11d ago</td>\n",
       "      <td>4.0</td>\n",
       "    </tr>\n",
       "    <tr>\n",
       "      <th>4</th>\n",
       "      <td>GENPACT India Private Limited</td>\n",
       "      <td>12d ago</td>\n",
       "      <td>4.0</td>\n",
       "    </tr>\n",
       "    <tr>\n",
       "      <th>5</th>\n",
       "      <td>GI Group</td>\n",
       "      <td>4d ago</td>\n",
       "      <td>4.0</td>\n",
       "    </tr>\n",
       "    <tr>\n",
       "      <th>6</th>\n",
       "      <td>GI Group</td>\n",
       "      <td>4d ago</td>\n",
       "      <td>4.0</td>\n",
       "    </tr>\n",
       "    <tr>\n",
       "      <th>7</th>\n",
       "      <td>GI Group</td>\n",
       "      <td>8d ago</td>\n",
       "      <td>4.0</td>\n",
       "    </tr>\n",
       "    <tr>\n",
       "      <th>8</th>\n",
       "      <td>Steria India Ltd</td>\n",
       "      <td>1mon ago</td>\n",
       "      <td>4.1</td>\n",
       "    </tr>\n",
       "    <tr>\n",
       "      <th>9</th>\n",
       "      <td>Zyoin</td>\n",
       "      <td>5d ago</td>\n",
       "      <td>4.1</td>\n",
       "    </tr>\n",
       "  </tbody>\n",
       "</table>\n",
       "</div>"
      ],
      "text/plain": [
       "                          Company_Name Posted_On Ratings\n",
       "0       LG Electronics India Pvt. Ltd.    3d ago     4.1\n",
       "1        GENPACT India Private Limited   10d ago     4.1\n",
       "2        GENPACT India Private Limited   10d ago     4.0\n",
       "3  NTT Data Business Solutions Pvt Ltd   11d ago     4.0\n",
       "4        GENPACT India Private Limited   12d ago     4.0\n",
       "5                             GI Group    4d ago     4.0\n",
       "6                             GI Group    4d ago     4.0\n",
       "7                             GI Group    8d ago     4.0\n",
       "8                     Steria India Ltd  1mon ago     4.1\n",
       "9                                Zyoin    5d ago     4.1"
      ]
     },
     "execution_count": 476,
     "metadata": {},
     "output_type": "execute_result"
    }
   ],
   "source": [
    "df"
   ]
  },
  {
   "cell_type": "markdown",
   "id": "c164aa45",
   "metadata": {},
   "source": [
    "# Question10\n",
    "Write a python program to scrape the salary data for Data Scientist designation. \n",
    "You have to scrape Company name, Number of salaries, Average salary, Min salary, Max Salary."
   ]
  },
  {
   "cell_type": "code",
   "execution_count": 3,
   "id": "8309fe25",
   "metadata": {},
   "outputs": [],
   "source": [
    "driver=webdriver.Chrome(r\"C:\\Users\\Hello\\Downloads\\chromedriver_win32\\chromedriver.exe\")"
   ]
  },
  {
   "cell_type": "code",
   "execution_count": 4,
   "id": "24d7076d",
   "metadata": {},
   "outputs": [],
   "source": [
    "driver.get(\"https://www.ambitionbox.com/\")"
   ]
  },
  {
   "cell_type": "code",
   "execution_count": 5,
   "id": "a3812d5b",
   "metadata": {},
   "outputs": [],
   "source": [
    "job = driver.find_element_by_xpath(\"//a[@class='link salaries']\").click()"
   ]
  },
  {
   "cell_type": "code",
   "execution_count": 6,
   "id": "86fbf92e",
   "metadata": {},
   "outputs": [],
   "source": [
    "search=driver.find_element_by_xpath(\"//div[@class='searchbox-wrapper']/span/input\").send_keys('Data Scientist')"
   ]
  },
  {
   "cell_type": "code",
   "execution_count": 7,
   "id": "308dce1b",
   "metadata": {},
   "outputs": [],
   "source": [
    "name=[]\n",
    "num_salaries=[]\n",
    "exp_required=[]\n",
    "avg_salary=[]\n",
    "min_salary=[]\n",
    "max_salary=[]"
   ]
  },
  {
   "cell_type": "code",
   "execution_count": 8,
   "id": "370966df",
   "metadata": {},
   "outputs": [],
   "source": [
    "co=driver.find_elements_by_xpath(\"//div[@class='name']/a\")\n",
    "num=driver.find_elements_by_xpath(\"//div[@class='name']/span\")\n",
    "exp=driver.find_elements_by_xpath(\"//div[@class='salaries sbold-list-header']\")\n",
    "avg=driver.find_elements_by_xpath(\"//p[@class='averageCtc']\")\n",
    "min=driver.find_elements_by_xpath(\"//div[@class='value body-medium']\")\n",
    "max=driver.find_elements_by_xpath(\"//div[@class='value body-medium']\")\n",
    "\n",
    "for i in co:\n",
    "    com=i.text\n",
    "    name.append(com)\n",
    "for i in num:\n",
    "    ns=i.text\n",
    "    num_salaries.append(ns)\n",
    "for i in exp:\n",
    "    er=i.text.replace('\\n',' ').split('.')[1]\n",
    "    exp_required.append(er)\n",
    "for i in avg:\n",
    "    a=i.text\n",
    "    avg_salary.append(a)\n",
    "#avg_salary[0:10]\n",
    "\n",
    "for i in min:\n",
    "    m=i.text\n",
    "    min_salary.append(m)\n",
    "#min_salary\n",
    "\n",
    "for i in max:\n",
    "    x=i.text\n",
    "    max_salary.append(x)\n",
    "#max_salary"
   ]
  },
  {
   "cell_type": "code",
   "execution_count": 20,
   "id": "ed3ce67a",
   "metadata": {},
   "outputs": [],
   "source": [
    "data = list(zip(name,num_salaries,exp_required,avg_salary,min_salary,max_salary))"
   ]
  },
  {
   "cell_type": "code",
   "execution_count": 21,
   "id": "59fdd691",
   "metadata": {},
   "outputs": [],
   "source": [
    "import pandas as pd"
   ]
  },
  {
   "cell_type": "code",
   "execution_count": 22,
   "id": "dd61a2fb",
   "metadata": {},
   "outputs": [],
   "source": [
    "df = pd.DataFrame(data,columns=['Company Name','Reported No. Salaries','Experience_Rqd','Avg_Salary','Min_Salary','Max_Salary'])"
   ]
  },
  {
   "cell_type": "code",
   "execution_count": 23,
   "id": "1002c8cc",
   "metadata": {},
   "outputs": [
    {
     "data": {
      "text/html": [
       "<div>\n",
       "<style scoped>\n",
       "    .dataframe tbody tr th:only-of-type {\n",
       "        vertical-align: middle;\n",
       "    }\n",
       "\n",
       "    .dataframe tbody tr th {\n",
       "        vertical-align: top;\n",
       "    }\n",
       "\n",
       "    .dataframe thead th {\n",
       "        text-align: right;\n",
       "    }\n",
       "</style>\n",
       "<table border=\"1\" class=\"dataframe\">\n",
       "  <thead>\n",
       "    <tr style=\"text-align: right;\">\n",
       "      <th></th>\n",
       "      <th>Company Name</th>\n",
       "      <th>Reported No. Salaries</th>\n",
       "      <th>Experience_Rqd</th>\n",
       "      <th>Avg_Salary</th>\n",
       "      <th>Min_Salary</th>\n",
       "      <th>Max_Salary</th>\n",
       "    </tr>\n",
       "  </thead>\n",
       "  <tbody>\n",
       "    <tr>\n",
       "      <th>0</th>\n",
       "      <td>Ab Inbev</td>\n",
       "      <td>based on 20 salaries</td>\n",
       "      <td>3-4 yrs exp</td>\n",
       "      <td>₹ 19.0L</td>\n",
       "      <td>₹ 15.0L</td>\n",
       "      <td>₹ 15.0L</td>\n",
       "    </tr>\n",
       "    <tr>\n",
       "      <th>1</th>\n",
       "      <td>ZS</td>\n",
       "      <td>based on 12 salaries</td>\n",
       "      <td>2 yrs exp</td>\n",
       "      <td>₹ 15.3L</td>\n",
       "      <td>₹ 23.0L</td>\n",
       "      <td>₹ 23.0L</td>\n",
       "    </tr>\n",
       "    <tr>\n",
       "      <th>2</th>\n",
       "      <td>Optum</td>\n",
       "      <td>based on 23 salaries</td>\n",
       "      <td>3-4 yrs exp</td>\n",
       "      <td>₹ 15.0L</td>\n",
       "      <td>₹ 9.8L</td>\n",
       "      <td>₹ 9.8L</td>\n",
       "    </tr>\n",
       "    <tr>\n",
       "      <th>3</th>\n",
       "      <td>Fractal Analytics</td>\n",
       "      <td>based on 66 salaries</td>\n",
       "      <td>2-4 yrs exp</td>\n",
       "      <td>₹ 15.0L</td>\n",
       "      <td>₹ 19.5L</td>\n",
       "      <td>₹ 19.5L</td>\n",
       "    </tr>\n",
       "    <tr>\n",
       "      <th>4</th>\n",
       "      <td>UnitedHealth</td>\n",
       "      <td>based on 47 salaries</td>\n",
       "      <td>2-4 yrs exp</td>\n",
       "      <td>₹ 13.5L</td>\n",
       "      <td>₹ 11.0L</td>\n",
       "      <td>₹ 11.0L</td>\n",
       "    </tr>\n",
       "    <tr>\n",
       "      <th>5</th>\n",
       "      <td>Tiger Analytics</td>\n",
       "      <td>based on 26 salaries</td>\n",
       "      <td>3-4 yrs exp</td>\n",
       "      <td>₹ 13.5L</td>\n",
       "      <td>₹ 21.3L</td>\n",
       "      <td>₹ 21.3L</td>\n",
       "    </tr>\n",
       "    <tr>\n",
       "      <th>6</th>\n",
       "      <td>Verizon</td>\n",
       "      <td>based on 14 salaries</td>\n",
       "      <td>4 yrs exp</td>\n",
       "      <td>₹ 12.7L</td>\n",
       "      <td>₹ 9.5L</td>\n",
       "      <td>₹ 9.5L</td>\n",
       "    </tr>\n",
       "    <tr>\n",
       "      <th>7</th>\n",
       "      <td>Ganit Business Solutions</td>\n",
       "      <td>based on 13 salaries</td>\n",
       "      <td>4 yrs exp</td>\n",
       "      <td>₹ 12.4L</td>\n",
       "      <td>₹ 22.0L</td>\n",
       "      <td>₹ 22.0L</td>\n",
       "    </tr>\n",
       "    <tr>\n",
       "      <th>8</th>\n",
       "      <td>Ericsson</td>\n",
       "      <td>based on 42 salaries</td>\n",
       "      <td>3-4 yrs exp</td>\n",
       "      <td>₹ 11.7L</td>\n",
       "      <td>₹ 7.2L</td>\n",
       "      <td>₹ 7.2L</td>\n",
       "    </tr>\n",
       "    <tr>\n",
       "      <th>9</th>\n",
       "      <td>Deloitte</td>\n",
       "      <td>based on 49 salaries</td>\n",
       "      <td>2-4 yrs exp</td>\n",
       "      <td>₹ 11.2L</td>\n",
       "      <td>₹ 20.5L</td>\n",
       "      <td>₹ 20.5L</td>\n",
       "    </tr>\n",
       "  </tbody>\n",
       "</table>\n",
       "</div>"
      ],
      "text/plain": [
       "               Company Name Reported No. Salaries Experience_Rqd Avg_Salary  \\\n",
       "0                  Ab Inbev  based on 20 salaries    3-4 yrs exp    ₹ 19.0L   \n",
       "1                        ZS  based on 12 salaries      2 yrs exp    ₹ 15.3L   \n",
       "2                     Optum  based on 23 salaries    3-4 yrs exp    ₹ 15.0L   \n",
       "3         Fractal Analytics  based on 66 salaries    2-4 yrs exp    ₹ 15.0L   \n",
       "4              UnitedHealth  based on 47 salaries    2-4 yrs exp    ₹ 13.5L   \n",
       "5           Tiger Analytics  based on 26 salaries    3-4 yrs exp    ₹ 13.5L   \n",
       "6                   Verizon  based on 14 salaries      4 yrs exp    ₹ 12.7L   \n",
       "7  Ganit Business Solutions  based on 13 salaries      4 yrs exp    ₹ 12.4L   \n",
       "8                  Ericsson  based on 42 salaries    3-4 yrs exp    ₹ 11.7L   \n",
       "9                  Deloitte  based on 49 salaries    2-4 yrs exp    ₹ 11.2L   \n",
       "\n",
       "  Min_Salary Max_Salary  \n",
       "0    ₹ 15.0L    ₹ 15.0L  \n",
       "1    ₹ 23.0L    ₹ 23.0L  \n",
       "2     ₹ 9.8L     ₹ 9.8L  \n",
       "3    ₹ 19.5L    ₹ 19.5L  \n",
       "4    ₹ 11.0L    ₹ 11.0L  \n",
       "5    ₹ 21.3L    ₹ 21.3L  \n",
       "6     ₹ 9.5L     ₹ 9.5L  \n",
       "7    ₹ 22.0L    ₹ 22.0L  \n",
       "8     ₹ 7.2L     ₹ 7.2L  \n",
       "9    ₹ 20.5L    ₹ 20.5L  "
      ]
     },
     "execution_count": 23,
     "metadata": {},
     "output_type": "execute_result"
    }
   ],
   "source": [
    "df"
   ]
  },
  {
   "cell_type": "code",
   "execution_count": null,
   "id": "28c6acbd",
   "metadata": {},
   "outputs": [],
   "source": []
  }
 ],
 "metadata": {
  "kernelspec": {
   "display_name": "Python 3",
   "language": "python",
   "name": "python3"
  },
  "language_info": {
   "codemirror_mode": {
    "name": "ipython",
    "version": 3
   },
   "file_extension": ".py",
   "mimetype": "text/x-python",
   "name": "python",
   "nbconvert_exporter": "python",
   "pygments_lexer": "ipython3",
   "version": "3.8.8"
  }
 },
 "nbformat": 4,
 "nbformat_minor": 5
}
