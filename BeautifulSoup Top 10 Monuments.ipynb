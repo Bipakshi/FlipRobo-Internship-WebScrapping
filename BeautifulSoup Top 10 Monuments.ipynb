{
 "cells": [
  {
   "cell_type": "code",
   "execution_count": 1,
   "id": "55870ba4",
   "metadata": {},
   "outputs": [
    {
     "name": "stdout",
     "output_type": "stream",
     "text": [
      "Requirement already satisfied: bs4 in c:\\users\\hello\\anaconda3\\lib\\site-packages (0.0.1)\n",
      "Requirement already satisfied: beautifulsoup4 in c:\\users\\hello\\anaconda3\\lib\\site-packages (from bs4) (4.10.0)\n",
      "Requirement already satisfied: soupsieve>1.2 in c:\\users\\hello\\anaconda3\\lib\\site-packages (from beautifulsoup4->bs4) (2.2.1)\n"
     ]
    }
   ],
   "source": [
    "!pip install bs4"
   ]
  },
  {
   "cell_type": "code",
   "execution_count": 2,
   "id": "11f95ec2",
   "metadata": {},
   "outputs": [],
   "source": [
    "from bs4 import BeautifulSoup"
   ]
  },
  {
   "cell_type": "code",
   "execution_count": 3,
   "id": "eaac03ea",
   "metadata": {},
   "outputs": [],
   "source": [
    "import requests"
   ]
  },
  {
   "cell_type": "code",
   "execution_count": 4,
   "id": "a67357ce",
   "metadata": {},
   "outputs": [],
   "source": [
    "page = requests.get('https://www.puredestinations.co.uk/top-10-famous-monuments-to-visit-in-india/')"
   ]
  },
  {
   "cell_type": "code",
   "execution_count": 5,
   "id": "fb9cbc44",
   "metadata": {},
   "outputs": [
    {
     "data": {
      "text/plain": [
       "<Response [200]>"
      ]
     },
     "execution_count": 5,
     "metadata": {},
     "output_type": "execute_result"
    }
   ],
   "source": [
    "page"
   ]
  },
  {
   "cell_type": "code",
   "execution_count": 6,
   "id": "b4c4ee6d",
   "metadata": {},
   "outputs": [],
   "source": [
    "soup = BeautifulSoup(page.content, 'html.parser')"
   ]
  },
  {
   "cell_type": "code",
   "execution_count": 7,
   "id": "51344ae9",
   "metadata": {},
   "outputs": [
    {
     "data": {
      "text/plain": [
       "'Top 10 Famous Monuments to Visit In India | Pure Destinations'"
      ]
     },
     "execution_count": 7,
     "metadata": {},
     "output_type": "execute_result"
    }
   ],
   "source": [
    "soup.title.text"
   ]
  },
  {
   "cell_type": "code",
   "execution_count": 129,
   "id": "bca026ba",
   "metadata": {},
   "outputs": [],
   "source": [
    "data=[]\n",
    "for i in soup.find_all('p'):\n",
    "    data.append(i.text)\n",
    "    \n"
   ]
  },
  {
   "cell_type": "code",
   "execution_count": 222,
   "id": "9f6cbebe",
   "metadata": {},
   "outputs": [],
   "source": [
    "#data"
   ]
  },
  {
   "cell_type": "code",
   "execution_count": 225,
   "id": "6270ee07",
   "metadata": {},
   "outputs": [],
   "source": [
    "monument_details=data[4:28]"
   ]
  },
  {
   "cell_type": "code",
   "execution_count": 214,
   "id": "86a5a344",
   "metadata": {},
   "outputs": [],
   "source": [
    "img =[]\n",
    "\n",
    "for i in soup.find_all('p'):\n",
    "    img.append(i.img)\n",
    "    \n",
    "#img"
   ]
  },
  {
   "cell_type": "code",
   "execution_count": 171,
   "id": "9c77c932",
   "metadata": {},
   "outputs": [],
   "source": [
    "i=img[6:7]"
   ]
  },
  {
   "cell_type": "code",
   "execution_count": 173,
   "id": "ca5f0df0",
   "metadata": {},
   "outputs": [],
   "source": [
    "i1=img[9:10]"
   ]
  },
  {
   "cell_type": "code",
   "execution_count": 175,
   "id": "7b48b3bc",
   "metadata": {},
   "outputs": [],
   "source": [
    "i2=img[12:13]"
   ]
  },
  {
   "cell_type": "code",
   "execution_count": 178,
   "id": "625f253e",
   "metadata": {},
   "outputs": [],
   "source": [
    "i3=img[15:16]"
   ]
  },
  {
   "cell_type": "code",
   "execution_count": 180,
   "id": "f40e0588",
   "metadata": {},
   "outputs": [],
   "source": [
    "i4=img[18:19]"
   ]
  },
  {
   "cell_type": "code",
   "execution_count": 182,
   "id": "e9a38a88",
   "metadata": {},
   "outputs": [],
   "source": [
    "i5=img[21:22]"
   ]
  },
  {
   "cell_type": "code",
   "execution_count": 184,
   "id": "2e5fee11",
   "metadata": {},
   "outputs": [],
   "source": [
    "i6=img[24:25]"
   ]
  },
  {
   "cell_type": "code",
   "execution_count": 198,
   "id": "053d1b01",
   "metadata": {},
   "outputs": [],
   "source": [
    "i7=img[27:28]"
   ]
  },
  {
   "cell_type": "code",
   "execution_count": 199,
   "id": "a62c754f",
   "metadata": {},
   "outputs": [],
   "source": [
    "i8=img[30:31]"
   ]
  },
  {
   "cell_type": "code",
   "execution_count": 200,
   "id": "e5752938",
   "metadata": {},
   "outputs": [],
   "source": [
    "i9=img[33:34]"
   ]
  },
  {
   "cell_type": "code",
   "execution_count": 226,
   "id": "7fd2efc7",
   "metadata": {},
   "outputs": [],
   "source": [
    "links =list(zip(i,i1,i2,i3,i4,i5,i6,i7,i8,i9))"
   ]
  },
  {
   "cell_type": "code",
   "execution_count": 227,
   "id": "364554c9",
   "metadata": {},
   "outputs": [
    {
     "data": {
      "text/plain": [
       "['Taj Mahal, Agra',\n",
       " 'Enlisted in the Seven Wonders of the World, The Taj Mahal is one of the most beautiful and famous buildings located in the city of Agra. This white marble monument was built by a Mughal Emperor called Shahajahan in memory of his beloved wife. Due to its amazing architecture and the history behind it, this world heritage site has become very popular to visit by all travellers and romantics from all over the world.',\n",
       " '',\n",
       " 'Golden Temple (Harmandir Sahib), Amritsar ',\n",
       " 'The holiest shrine and pilgrimage place located in Amritsar is The Golden Temple known as the Harmandir Sahib. This is the most famous and sacred Sikh Gurdwara in Punjab, India, adorned with rich history and gold gilded exterior. If you are interested in culture and history, be sure to visit this popular attraction in India.',\n",
       " '',\n",
       " 'Meenakshi Temple, Madurai',\n",
       " 'Meenakshi Temple is situated on the Southern banks of Vaigai River in the temple city Madurai. This temple is dedicated to Parvati and her consort, Shiva and is visited by most Hindu and Tamil devotees and architectural lovers throughout the world. It is believed that this shrine houses 33,000 sculptures in its 14 gopurams. It’s no doubt one place to visit if you are impressed with art and cultural history.',\n",
       " '',\n",
       " 'Mysore Palace, Mysore',\n",
       " 'The Mysore Palace is a famous historical monument in the city of Mysore in Karnataka. Commonly described as the City of Palaces, this is the most famous tourist attraction in India after the Taj Mahal. It is a sight not be missed with its spacious halls, lovely art paintings and Indo-Saracenic style architecture. Best time to visit is at night due to the astonishing illuminated lights covering the whole monument.',\n",
       " '',\n",
       " 'Gateway of India, Mumbai',\n",
       " 'Even though Mumbai is famous for its Bollywood actors and movies, the most famous attraction in Mumbai is The Gateway of India. It is a popular gathering spot for locals, travellers, street vendors and photographers and is known as the Taj Mahal of Mumbai. The majestic monument was built to commemorate the visit of King George V and Queen Mary to Bombay. With so much fun and excitement this place is not to be missed with family or on your tour of India.',\n",
       " '',\n",
       " 'Red Fort, New Delhi',\n",
       " 'Declared as the UNESCO’s World Heritage Site, Red Fort is located in the centre of beautiful Delhi. If you love learning about history and culture then this famous historic monument is a must see place to visit. Built by the Mughal Emperor, Shah Jahan in 1648, and housing a number of museums, its walls are built of red sandstone. The best time to visit is on Independence Day where the Prime Minister of India hoists the national flag at the Red Fort. End the day by heading to an Indian restaurant and enjoy the varieties of wonderful cuisines.',\n",
       " '',\n",
       " 'Hawa Mahal, Jaipur',\n",
       " 'Explore a blend of beauty and Rajasthan culture, the Hawa Mahal also known as Palace of Winds is situated in the capital of Rajasthan, Jaipur. Built from red and pink sandstones by the Maharaja Sawi Pratap Singh in 1799, this unique five storey structure is one of the most prominent tourist attractions in the Jaipur city.',\n",
       " '',\n",
       " 'Qutub Minar, New Delhi',\n",
       " 'Discover one of the tallest towers in the world and the second tallest Minar of India standing elegantly in the Capital city, New Delhi. Standing at 72.5 metres and consisting of around 379 stairs, this famous monument represents the rich architecture of India. As it is a UNESCO World Heritage Site made of red sandstone and decorated with Arabic and Brahmi inscriptions, travellers from around the world come to view this most famous tower in India.',\n",
       " '']"
      ]
     },
     "execution_count": 227,
     "metadata": {},
     "output_type": "execute_result"
    }
   ],
   "source": [
    "monument_details"
   ]
  },
  {
   "cell_type": "code",
   "execution_count": 228,
   "id": "d207ada3",
   "metadata": {},
   "outputs": [
    {
     "data": {
      "text/plain": [
       "[('© 2021 Pure Destinations Ltd | Honeymoon Dreams is a trading name for Pure Destinations Ltd whose registered address can be found on Companies House, Company No. 10604545',\n",
       "  <img alt=\"golden-temple-pd-blog\" class=\"alignnone size-full wp-image-36628 lazyload\" data-src=\"http://www.puredestinations.co.uk/wp-content/uploads/2016/11/Golden-Temple-PD-BLOG.jpg\" data-srcset=\"https://www.puredestinations.co.uk/wp-content/uploads/2016/11/Golden-Temple-PD-BLOG.jpg 800w, https://www.puredestinations.co.uk/wp-content/uploads/2016/11/Golden-Temple-PD-BLOG-768x512.jpg 768w, https://www.puredestinations.co.uk/wp-content/uploads/2016/11/Golden-Temple-PD-BLOG-300x200.jpg 300w\" height=\"533\" sizes=\"(max-width: 800px) 100vw, 800px\" src=\"data:image/gif;base64,R0lGODlhAQABAAAAACH5BAEKAAEALAAAAAABAAEAAAICTAEAOw==\" width=\"800\"><noscript><img alt=\"golden-temple-pd-blog\" class=\"alignnone size-full wp-image-36628\" height=\"533\" sizes=\"(max-width: 800px) 100vw, 800px\" src=\"http://www.puredestinations.co.uk/wp-content/uploads/2016/11/Golden-Temple-PD-BLOG.jpg\" srcset=\"https://www.puredestinations.co.uk/wp-content/uploads/2016/11/Golden-Temple-PD-BLOG.jpg 800w, https://www.puredestinations.co.uk/wp-content/uploads/2016/11/Golden-Temple-PD-BLOG-768x512.jpg 768w, https://www.puredestinations.co.uk/wp-content/uploads/2016/11/Golden-Temple-PD-BLOG-300x200.jpg 300w\" width=\"800\"/></noscript></img>,\n",
       "  <img alt=\"meenakshi-temple-pd-blog\" class=\"alignnone size-full wp-image-36630 lazyload\" data-src=\"http://www.puredestinations.co.uk/wp-content/uploads/2016/11/meenakshi-temple-PD-BLOG.jpg\" data-srcset=\"https://www.puredestinations.co.uk/wp-content/uploads/2016/11/meenakshi-temple-PD-BLOG.jpg 800w, https://www.puredestinations.co.uk/wp-content/uploads/2016/11/meenakshi-temple-PD-BLOG-768x512.jpg 768w, https://www.puredestinations.co.uk/wp-content/uploads/2016/11/meenakshi-temple-PD-BLOG-300x200.jpg 300w\" height=\"533\" sizes=\"(max-width: 800px) 100vw, 800px\" src=\"data:image/gif;base64,R0lGODlhAQABAAAAACH5BAEKAAEALAAAAAABAAEAAAICTAEAOw==\" width=\"800\"/>,\n",
       "  <img alt=\"mysore-palace-pd-blog\" class=\"alignnone size-full wp-image-36631 lazyload\" data-src=\"http://www.puredestinations.co.uk/wp-content/uploads/2016/11/Mysore-palace-PD-BLOG.jpg\" data-srcset=\"https://www.puredestinations.co.uk/wp-content/uploads/2016/11/Mysore-palace-PD-BLOG.jpg 800w, https://www.puredestinations.co.uk/wp-content/uploads/2016/11/Mysore-palace-PD-BLOG-768x512.jpg 768w, https://www.puredestinations.co.uk/wp-content/uploads/2016/11/Mysore-palace-PD-BLOG-300x200.jpg 300w\" height=\"533\" sizes=\"(max-width: 800px) 100vw, 800px\" src=\"data:image/gif;base64,R0lGODlhAQABAAAAACH5BAEKAAEALAAAAAABAAEAAAICTAEAOw==\" width=\"800\"/>,\n",
       "  <img alt=\"gateway-to-india-pd-blog\" class=\"alignnone size-full wp-image-36632 lazyload\" data-src=\"http://www.puredestinations.co.uk/wp-content/uploads/2016/11/gateway-to-india-PD-BLOG.jpg\" data-srcset=\"https://www.puredestinations.co.uk/wp-content/uploads/2016/11/gateway-to-india-PD-BLOG.jpg 800w, https://www.puredestinations.co.uk/wp-content/uploads/2016/11/gateway-to-india-PD-BLOG-768x512.jpg 768w, https://www.puredestinations.co.uk/wp-content/uploads/2016/11/gateway-to-india-PD-BLOG-300x200.jpg 300w\" height=\"533\" sizes=\"(max-width: 800px) 100vw, 800px\" src=\"data:image/gif;base64,R0lGODlhAQABAAAAACH5BAEKAAEALAAAAAABAAEAAAICTAEAOw==\" width=\"800\"/>,\n",
       "  <img alt=\"red-fort-pd-blog\" class=\"alignnone size-full wp-image-36623 lazyload\" data-src=\"http://www.puredestinations.co.uk/wp-content/uploads/2016/11/red-fort-PD-BLOG.jpg\" data-srcset=\"https://www.puredestinations.co.uk/wp-content/uploads/2016/11/red-fort-PD-BLOG.jpg 800w, https://www.puredestinations.co.uk/wp-content/uploads/2016/11/red-fort-PD-BLOG-768x512.jpg 768w, https://www.puredestinations.co.uk/wp-content/uploads/2016/11/red-fort-PD-BLOG-300x200.jpg 300w\" height=\"533\" sizes=\"(max-width: 800px) 100vw, 800px\" src=\"data:image/gif;base64,R0lGODlhAQABAAAAACH5BAEKAAEALAAAAAABAAEAAAICTAEAOw==\" width=\"800\"/>,\n",
       "  <img alt=\"hawa-mahal-pd-blog\" class=\"alignnone size-full wp-image-36634 lazyload\" data-src=\"http://www.puredestinations.co.uk/wp-content/uploads/2016/11/HAWA-MAHAL-PD-BLOG.jpg\" data-srcset=\"https://www.puredestinations.co.uk/wp-content/uploads/2016/11/HAWA-MAHAL-PD-BLOG.jpg 800w, https://www.puredestinations.co.uk/wp-content/uploads/2016/11/HAWA-MAHAL-PD-BLOG-768x512.jpg 768w, https://www.puredestinations.co.uk/wp-content/uploads/2016/11/HAWA-MAHAL-PD-BLOG-300x200.jpg 300w\" height=\"533\" sizes=\"(max-width: 800px) 100vw, 800px\" src=\"data:image/gif;base64,R0lGODlhAQABAAAAACH5BAEKAAEALAAAAAABAAEAAAICTAEAOw==\" width=\"800\"/>,\n",
       "  <img alt=\"qutub-minar-pd-blog\" class=\"alignnone size-full wp-image-36636 lazyload\" data-src=\"http://www.puredestinations.co.uk/wp-content/uploads/2016/11/qutub-minar-PD-BLOG.jpg\" data-srcset=\"https://www.puredestinations.co.uk/wp-content/uploads/2016/11/qutub-minar-PD-BLOG.jpg 800w, https://www.puredestinations.co.uk/wp-content/uploads/2016/11/qutub-minar-PD-BLOG-768x512.jpg 768w, https://www.puredestinations.co.uk/wp-content/uploads/2016/11/qutub-minar-PD-BLOG-300x200.jpg 300w\" height=\"533\" sizes=\"(max-width: 800px) 100vw, 800px\" src=\"data:image/gif;base64,R0lGODlhAQABAAAAACH5BAEKAAEALAAAAAABAAEAAAICTAEAOw==\" width=\"800\"/>,\n",
       "  <img alt=\"sanchi-stupi-pd-blog\" class=\"alignnone size-full wp-image-36637 lazyload\" data-src=\"http://www.puredestinations.co.uk/wp-content/uploads/2016/11/Sanchi-Stupi-PD-BLOG.jpg\" data-srcset=\"https://www.puredestinations.co.uk/wp-content/uploads/2016/11/Sanchi-Stupi-PD-BLOG.jpg 800w, https://www.puredestinations.co.uk/wp-content/uploads/2016/11/Sanchi-Stupi-PD-BLOG-768x512.jpg 768w, https://www.puredestinations.co.uk/wp-content/uploads/2016/11/Sanchi-Stupi-PD-BLOG-300x200.jpg 300w\" height=\"533\" sizes=\"(max-width: 800px) 100vw, 800px\" src=\"data:image/gif;base64,R0lGODlhAQABAAAAACH5BAEKAAEALAAAAAABAAEAAAICTAEAOw==\" width=\"800\"/>,\n",
       "  <img alt=\"charminar-pd-blog\" class=\"alignnone size-full wp-image-36646 lazyload\" data-src=\"http://www.puredestinations.co.uk/wp-content/uploads/2016/11/Charminar-PD-BLOG-1.jpg\" data-srcset=\"https://www.puredestinations.co.uk/wp-content/uploads/2016/11/Charminar-PD-BLOG-1.jpg 800w, https://www.puredestinations.co.uk/wp-content/uploads/2016/11/Charminar-PD-BLOG-1-768x512.jpg 768w, https://www.puredestinations.co.uk/wp-content/uploads/2016/11/Charminar-PD-BLOG-1-300x200.jpg 300w\" height=\"533\" sizes=\"(max-width: 800px) 100vw, 800px\" src=\"data:image/gif;base64,R0lGODlhAQABAAAAACH5BAEKAAEALAAAAAABAAEAAAICTAEAOw==\" width=\"800\"/>)]"
      ]
     },
     "execution_count": 228,
     "metadata": {},
     "output_type": "execute_result"
    }
   ],
   "source": [
    "links"
   ]
  },
  {
   "cell_type": "code",
   "execution_count": null,
   "id": "5ababb59",
   "metadata": {},
   "outputs": [],
   "source": []
  }
 ],
 "metadata": {
  "kernelspec": {
   "display_name": "Python 3",
   "language": "python",
   "name": "python3"
  },
  "language_info": {
   "codemirror_mode": {
    "name": "ipython",
    "version": 3
   },
   "file_extension": ".py",
   "mimetype": "text/x-python",
   "name": "python",
   "nbconvert_exporter": "python",
   "pygments_lexer": "ipython3",
   "version": "3.8.8"
  }
 },
 "nbformat": 4,
 "nbformat_minor": 5
}
